{
 "cells": [
  {
   "cell_type": "code",
   "execution_count": 1,
   "id": "fe9109a8",
   "metadata": {},
   "outputs": [],
   "source": [
    "import pandas as pd\n",
    "import numpy as np\n",
    "import matplotlib.pyplot as plt\n",
    "import seaborn as sns"
   ]
  },
  {
   "cell_type": "code",
   "execution_count": 2,
   "id": "6dba282c",
   "metadata": {},
   "outputs": [],
   "source": [
    "data = pd.read_csv('mfp.csv')"
   ]
  },
  {
   "cell_type": "code",
   "execution_count": 3,
   "id": "fc1e1101",
   "metadata": {},
   "outputs": [
    {
     "name": "stdout",
     "output_type": "stream",
     "text": [
      "<class 'pandas.core.frame.DataFrame'>\n",
      "RangeIndex: 587186 entries, 0 to 587185\n",
      "Data columns (total 16 columns):\n",
      " #   Column          Non-Null Count   Dtype  \n",
      "---  ------          --------------   -----  \n",
      " 0   user_id         587186 non-null  int64  \n",
      " 1   date            587186 non-null  object \n",
      " 2   sequence        587186 non-null  int64  \n",
      " 3   food_ids        587186 non-null  object \n",
      " 4   total_calories  587186 non-null  int64  \n",
      " 5   total_carbs     587186 non-null  int64  \n",
      " 6   total_fat       586309 non-null  float64\n",
      " 7   total_protein   586309 non-null  float64\n",
      " 8   total_sodium    585881 non-null  float64\n",
      " 9   total_sugar     585879 non-null  float64\n",
      " 10  goal_calories   585264 non-null  float64\n",
      " 11  goal_carbs      585261 non-null  float64\n",
      " 12  goal_fat        559873 non-null  float64\n",
      " 13  goal_protein    559868 non-null  float64\n",
      " 14  goal_sodium     519466 non-null  float64\n",
      " 15  goal_sugar      519196 non-null  float64\n",
      "dtypes: float64(10), int64(4), object(2)\n",
      "memory usage: 71.7+ MB\n"
     ]
    }
   ],
   "source": [
    "data.info()"
   ]
  },
  {
   "cell_type": "code",
   "execution_count": 4,
   "id": "71c30dfe",
   "metadata": {},
   "outputs": [
    {
     "data": {
      "text/html": [
       "<div>\n",
       "<style scoped>\n",
       "    .dataframe tbody tr th:only-of-type {\n",
       "        vertical-align: middle;\n",
       "    }\n",
       "\n",
       "    .dataframe tbody tr th {\n",
       "        vertical-align: top;\n",
       "    }\n",
       "\n",
       "    .dataframe thead th {\n",
       "        text-align: right;\n",
       "    }\n",
       "</style>\n",
       "<table border=\"1\" class=\"dataframe\">\n",
       "  <thead>\n",
       "    <tr style=\"text-align: right;\">\n",
       "      <th></th>\n",
       "      <th>user_id</th>\n",
       "      <th>date</th>\n",
       "      <th>sequence</th>\n",
       "      <th>food_ids</th>\n",
       "      <th>total_calories</th>\n",
       "      <th>total_carbs</th>\n",
       "      <th>total_fat</th>\n",
       "      <th>total_protein</th>\n",
       "      <th>total_sodium</th>\n",
       "      <th>total_sugar</th>\n",
       "      <th>goal_calories</th>\n",
       "      <th>goal_carbs</th>\n",
       "      <th>goal_fat</th>\n",
       "      <th>goal_protein</th>\n",
       "      <th>goal_sodium</th>\n",
       "      <th>goal_sugar</th>\n",
       "    </tr>\n",
       "  </thead>\n",
       "  <tbody>\n",
       "    <tr>\n",
       "      <th>0</th>\n",
       "      <td>1</td>\n",
       "      <td>2014-09-15</td>\n",
       "      <td>1</td>\n",
       "      <td>[1, 2, 3, 4, 4]</td>\n",
       "      <td>2430</td>\n",
       "      <td>96</td>\n",
       "      <td>37.0</td>\n",
       "      <td>50.0</td>\n",
       "      <td>855.0</td>\n",
       "      <td>63.0</td>\n",
       "      <td>1572.0</td>\n",
       "      <td>196.0</td>\n",
       "      <td>52.0</td>\n",
       "      <td>79.0</td>\n",
       "      <td>2300.0</td>\n",
       "      <td>59.0</td>\n",
       "    </tr>\n",
       "    <tr>\n",
       "      <th>1</th>\n",
       "      <td>1</td>\n",
       "      <td>2014-09-16</td>\n",
       "      <td>1</td>\n",
       "      <td>[5, 1, 2, 3, 6, 7]</td>\n",
       "      <td>1862</td>\n",
       "      <td>158</td>\n",
       "      <td>54.0</td>\n",
       "      <td>114.0</td>\n",
       "      <td>2215.0</td>\n",
       "      <td>100.0</td>\n",
       "      <td>1832.0</td>\n",
       "      <td>229.0</td>\n",
       "      <td>61.0</td>\n",
       "      <td>92.0</td>\n",
       "      <td>2300.0</td>\n",
       "      <td>69.0</td>\n",
       "    </tr>\n",
       "    <tr>\n",
       "      <th>2</th>\n",
       "      <td>1</td>\n",
       "      <td>2014-09-17</td>\n",
       "      <td>1</td>\n",
       "      <td>[1, 2, 3, 6, 8, 9, 10]</td>\n",
       "      <td>2251</td>\n",
       "      <td>187</td>\n",
       "      <td>60.0</td>\n",
       "      <td>98.0</td>\n",
       "      <td>1765.0</td>\n",
       "      <td>105.0</td>\n",
       "      <td>1685.0</td>\n",
       "      <td>210.0</td>\n",
       "      <td>56.0</td>\n",
       "      <td>85.0</td>\n",
       "      <td>2300.0</td>\n",
       "      <td>63.0</td>\n",
       "    </tr>\n",
       "    <tr>\n",
       "      <th>3</th>\n",
       "      <td>1</td>\n",
       "      <td>2014-09-18</td>\n",
       "      <td>1</td>\n",
       "      <td>[1, 6, 2, 3, 11, 12]</td>\n",
       "      <td>2001</td>\n",
       "      <td>113</td>\n",
       "      <td>81.0</td>\n",
       "      <td>202.0</td>\n",
       "      <td>1101.0</td>\n",
       "      <td>71.0</td>\n",
       "      <td>1597.0</td>\n",
       "      <td>199.0</td>\n",
       "      <td>53.0</td>\n",
       "      <td>80.0</td>\n",
       "      <td>2300.0</td>\n",
       "      <td>60.0</td>\n",
       "    </tr>\n",
       "    <tr>\n",
       "      <th>4</th>\n",
       "      <td>1</td>\n",
       "      <td>2014-09-19</td>\n",
       "      <td>1</td>\n",
       "      <td>[1, 7, 13, 12, 2, 3, 12, 12]</td>\n",
       "      <td>2158</td>\n",
       "      <td>180</td>\n",
       "      <td>89.0</td>\n",
       "      <td>115.0</td>\n",
       "      <td>1998.0</td>\n",
       "      <td>84.0</td>\n",
       "      <td>1589.0</td>\n",
       "      <td>198.0</td>\n",
       "      <td>53.0</td>\n",
       "      <td>80.0</td>\n",
       "      <td>2300.0</td>\n",
       "      <td>60.0</td>\n",
       "    </tr>\n",
       "  </tbody>\n",
       "</table>\n",
       "</div>"
      ],
      "text/plain": [
       "   user_id        date  sequence                      food_ids  \\\n",
       "0        1  2014-09-15         1               [1, 2, 3, 4, 4]   \n",
       "1        1  2014-09-16         1            [5, 1, 2, 3, 6, 7]   \n",
       "2        1  2014-09-17         1        [1, 2, 3, 6, 8, 9, 10]   \n",
       "3        1  2014-09-18         1          [1, 6, 2, 3, 11, 12]   \n",
       "4        1  2014-09-19         1  [1, 7, 13, 12, 2, 3, 12, 12]   \n",
       "\n",
       "   total_calories  total_carbs  total_fat  total_protein  total_sodium  \\\n",
       "0            2430           96       37.0           50.0         855.0   \n",
       "1            1862          158       54.0          114.0        2215.0   \n",
       "2            2251          187       60.0           98.0        1765.0   \n",
       "3            2001          113       81.0          202.0        1101.0   \n",
       "4            2158          180       89.0          115.0        1998.0   \n",
       "\n",
       "   total_sugar  goal_calories  goal_carbs  goal_fat  goal_protein  \\\n",
       "0         63.0         1572.0       196.0      52.0          79.0   \n",
       "1        100.0         1832.0       229.0      61.0          92.0   \n",
       "2        105.0         1685.0       210.0      56.0          85.0   \n",
       "3         71.0         1597.0       199.0      53.0          80.0   \n",
       "4         84.0         1589.0       198.0      53.0          80.0   \n",
       "\n",
       "   goal_sodium  goal_sugar  \n",
       "0       2300.0        59.0  \n",
       "1       2300.0        69.0  \n",
       "2       2300.0        63.0  \n",
       "3       2300.0        60.0  \n",
       "4       2300.0        60.0  "
      ]
     },
     "execution_count": 4,
     "metadata": {},
     "output_type": "execute_result"
    }
   ],
   "source": [
    "data.head()"
   ]
  },
  {
   "cell_type": "code",
   "execution_count": 5,
   "id": "3d48e20a",
   "metadata": {},
   "outputs": [
    {
     "data": {
      "text/plain": [
       "user_id               0\n",
       "date                  0\n",
       "sequence              0\n",
       "food_ids              0\n",
       "total_calories        0\n",
       "total_carbs           0\n",
       "total_fat           877\n",
       "total_protein       877\n",
       "total_sodium       1305\n",
       "total_sugar        1307\n",
       "goal_calories      1922\n",
       "goal_carbs         1925\n",
       "goal_fat          27313\n",
       "goal_protein      27318\n",
       "goal_sodium       67720\n",
       "goal_sugar        67990\n",
       "dtype: int64"
      ]
     },
     "execution_count": 5,
     "metadata": {},
     "output_type": "execute_result"
    }
   ],
   "source": [
    "data.isna().sum()"
   ]
  },
  {
   "cell_type": "code",
   "execution_count": 6,
   "id": "910efdf5",
   "metadata": {
    "scrolled": false
   },
   "outputs": [
    {
     "data": {
      "text/html": [
       "<div>\n",
       "<style scoped>\n",
       "    .dataframe tbody tr th:only-of-type {\n",
       "        vertical-align: middle;\n",
       "    }\n",
       "\n",
       "    .dataframe tbody tr th {\n",
       "        vertical-align: top;\n",
       "    }\n",
       "\n",
       "    .dataframe thead th {\n",
       "        text-align: right;\n",
       "    }\n",
       "</style>\n",
       "<table border=\"1\" class=\"dataframe\">\n",
       "  <thead>\n",
       "    <tr style=\"text-align: right;\">\n",
       "      <th></th>\n",
       "      <th>user_id</th>\n",
       "      <th>sequence</th>\n",
       "      <th>total_calories</th>\n",
       "      <th>total_carbs</th>\n",
       "      <th>total_fat</th>\n",
       "      <th>total_protein</th>\n",
       "      <th>total_sodium</th>\n",
       "      <th>total_sugar</th>\n",
       "      <th>goal_calories</th>\n",
       "      <th>goal_carbs</th>\n",
       "      <th>goal_fat</th>\n",
       "      <th>goal_protein</th>\n",
       "      <th>goal_sodium</th>\n",
       "      <th>goal_sugar</th>\n",
       "    </tr>\n",
       "  </thead>\n",
       "  <tbody>\n",
       "    <tr>\n",
       "      <th>count</th>\n",
       "      <td>587186.000000</td>\n",
       "      <td>587186.000000</td>\n",
       "      <td>5.871860e+05</td>\n",
       "      <td>587186.000000</td>\n",
       "      <td>586309.000000</td>\n",
       "      <td>586309.000000</td>\n",
       "      <td>585881.000000</td>\n",
       "      <td>585879.000000</td>\n",
       "      <td>585264.000000</td>\n",
       "      <td>585261.000000</td>\n",
       "      <td>559873.000000</td>\n",
       "      <td>559868.000000</td>\n",
       "      <td>519466.000000</td>\n",
       "      <td>519196.000000</td>\n",
       "    </tr>\n",
       "    <tr>\n",
       "      <th>mean</th>\n",
       "      <td>4946.928031</td>\n",
       "      <td>4.004532</td>\n",
       "      <td>1.421923e+03</td>\n",
       "      <td>153.679057</td>\n",
       "      <td>71.235077</td>\n",
       "      <td>93.821524</td>\n",
       "      <td>1157.984207</td>\n",
       "      <td>407.563147</td>\n",
       "      <td>1613.422573</td>\n",
       "      <td>194.222680</td>\n",
       "      <td>90.101536</td>\n",
       "      <td>157.212782</td>\n",
       "      <td>1446.919333</td>\n",
       "      <td>411.366736</td>\n",
       "    </tr>\n",
       "    <tr>\n",
       "      <th>std</th>\n",
       "      <td>2844.719822</td>\n",
       "      <td>1.341577</td>\n",
       "      <td>2.284502e+03</td>\n",
       "      <td>355.777029</td>\n",
       "      <td>277.018504</td>\n",
       "      <td>289.062514</td>\n",
       "      <td>2049.176072</td>\n",
       "      <td>907.108966</td>\n",
       "      <td>722.874981</td>\n",
       "      <td>352.425203</td>\n",
       "      <td>240.765991</td>\n",
       "      <td>390.169810</td>\n",
       "      <td>1166.553691</td>\n",
       "      <td>886.227384</td>\n",
       "    </tr>\n",
       "    <tr>\n",
       "      <th>min</th>\n",
       "      <td>1.000000</td>\n",
       "      <td>1.000000</td>\n",
       "      <td>0.000000e+00</td>\n",
       "      <td>0.000000</td>\n",
       "      <td>0.000000</td>\n",
       "      <td>0.000000</td>\n",
       "      <td>0.000000</td>\n",
       "      <td>0.000000</td>\n",
       "      <td>0.000000</td>\n",
       "      <td>0.000000</td>\n",
       "      <td>0.000000</td>\n",
       "      <td>0.000000</td>\n",
       "      <td>0.000000</td>\n",
       "      <td>0.000000</td>\n",
       "    </tr>\n",
       "    <tr>\n",
       "      <th>25%</th>\n",
       "      <td>2513.000000</td>\n",
       "      <td>3.000000</td>\n",
       "      <td>1.038000e+03</td>\n",
       "      <td>76.000000</td>\n",
       "      <td>29.000000</td>\n",
       "      <td>40.000000</td>\n",
       "      <td>30.000000</td>\n",
       "      <td>22.000000</td>\n",
       "      <td>1314.000000</td>\n",
       "      <td>122.000000</td>\n",
       "      <td>46.000000</td>\n",
       "      <td>70.000000</td>\n",
       "      <td>56.000000</td>\n",
       "      <td>45.000000</td>\n",
       "    </tr>\n",
       "    <tr>\n",
       "      <th>50%</th>\n",
       "      <td>4928.000000</td>\n",
       "      <td>4.000000</td>\n",
       "      <td>1.403000e+03</td>\n",
       "      <td>135.000000</td>\n",
       "      <td>49.000000</td>\n",
       "      <td>66.000000</td>\n",
       "      <td>690.000000</td>\n",
       "      <td>51.000000</td>\n",
       "      <td>1630.000000</td>\n",
       "      <td>178.000000</td>\n",
       "      <td>58.000000</td>\n",
       "      <td>96.000000</td>\n",
       "      <td>2300.000000</td>\n",
       "      <td>64.000000</td>\n",
       "    </tr>\n",
       "    <tr>\n",
       "      <th>75%</th>\n",
       "      <td>7427.000000</td>\n",
       "      <td>5.000000</td>\n",
       "      <td>1.766000e+03</td>\n",
       "      <td>191.000000</td>\n",
       "      <td>72.000000</td>\n",
       "      <td>98.000000</td>\n",
       "      <td>1982.000000</td>\n",
       "      <td>139.000000</td>\n",
       "      <td>1991.000000</td>\n",
       "      <td>227.000000</td>\n",
       "      <td>77.000000</td>\n",
       "      <td>135.000000</td>\n",
       "      <td>2300.000000</td>\n",
       "      <td>100.000000</td>\n",
       "    </tr>\n",
       "    <tr>\n",
       "      <th>max</th>\n",
       "      <td>9897.000000</td>\n",
       "      <td>6.000000</td>\n",
       "      <td>1.200800e+06</td>\n",
       "      <td>210865.000000</td>\n",
       "      <td>132088.000000</td>\n",
       "      <td>114949.000000</td>\n",
       "      <td>960000.000000</td>\n",
       "      <td>168015.000000</td>\n",
       "      <td>26068.000000</td>\n",
       "      <td>154417.000000</td>\n",
       "      <td>38128.000000</td>\n",
       "      <td>102945.000000</td>\n",
       "      <td>23009.000000</td>\n",
       "      <td>35055.000000</td>\n",
       "    </tr>\n",
       "  </tbody>\n",
       "</table>\n",
       "</div>"
      ],
      "text/plain": [
       "             user_id       sequence  total_calories    total_carbs  \\\n",
       "count  587186.000000  587186.000000    5.871860e+05  587186.000000   \n",
       "mean     4946.928031       4.004532    1.421923e+03     153.679057   \n",
       "std      2844.719822       1.341577    2.284502e+03     355.777029   \n",
       "min         1.000000       1.000000    0.000000e+00       0.000000   \n",
       "25%      2513.000000       3.000000    1.038000e+03      76.000000   \n",
       "50%      4928.000000       4.000000    1.403000e+03     135.000000   \n",
       "75%      7427.000000       5.000000    1.766000e+03     191.000000   \n",
       "max      9897.000000       6.000000    1.200800e+06  210865.000000   \n",
       "\n",
       "           total_fat  total_protein   total_sodium    total_sugar  \\\n",
       "count  586309.000000  586309.000000  585881.000000  585879.000000   \n",
       "mean       71.235077      93.821524    1157.984207     407.563147   \n",
       "std       277.018504     289.062514    2049.176072     907.108966   \n",
       "min         0.000000       0.000000       0.000000       0.000000   \n",
       "25%        29.000000      40.000000      30.000000      22.000000   \n",
       "50%        49.000000      66.000000     690.000000      51.000000   \n",
       "75%        72.000000      98.000000    1982.000000     139.000000   \n",
       "max    132088.000000  114949.000000  960000.000000  168015.000000   \n",
       "\n",
       "       goal_calories     goal_carbs       goal_fat   goal_protein  \\\n",
       "count  585264.000000  585261.000000  559873.000000  559868.000000   \n",
       "mean     1613.422573     194.222680      90.101536     157.212782   \n",
       "std       722.874981     352.425203     240.765991     390.169810   \n",
       "min         0.000000       0.000000       0.000000       0.000000   \n",
       "25%      1314.000000     122.000000      46.000000      70.000000   \n",
       "50%      1630.000000     178.000000      58.000000      96.000000   \n",
       "75%      1991.000000     227.000000      77.000000     135.000000   \n",
       "max     26068.000000  154417.000000   38128.000000  102945.000000   \n",
       "\n",
       "         goal_sodium     goal_sugar  \n",
       "count  519466.000000  519196.000000  \n",
       "mean     1446.919333     411.366736  \n",
       "std      1166.553691     886.227384  \n",
       "min         0.000000       0.000000  \n",
       "25%        56.000000      45.000000  \n",
       "50%      2300.000000      64.000000  \n",
       "75%      2300.000000     100.000000  \n",
       "max     23009.000000   35055.000000  "
      ]
     },
     "execution_count": 6,
     "metadata": {},
     "output_type": "execute_result"
    }
   ],
   "source": [
    "data.describe()"
   ]
  },
  {
   "cell_type": "markdown",
   "id": "1a65a137",
   "metadata": {},
   "source": [
    "# EDA"
   ]
  },
  {
   "cell_type": "markdown",
   "id": "cd29e32d",
   "metadata": {},
   "source": [
    "## Data cleaning"
   ]
  },
  {
   "cell_type": "markdown",
   "id": "1414b8c4",
   "metadata": {},
   "source": [
    "Removing columns with goal calories missing"
   ]
  },
  {
   "cell_type": "code",
   "execution_count": 7,
   "id": "588102f5",
   "metadata": {},
   "outputs": [],
   "source": [
    "data = data.drop(data[data.goal_calories.isnull()].index)"
   ]
  },
  {
   "cell_type": "markdown",
   "id": "7916a5fe",
   "metadata": {},
   "source": [
    "## Data visualization"
   ]
  },
  {
   "cell_type": "code",
   "execution_count": 8,
   "id": "841658b7",
   "metadata": {},
   "outputs": [
    {
     "data": {
      "text/plain": [
       "<AxesSubplot:xlabel='sequence'>"
      ]
     },
     "execution_count": 8,
     "metadata": {},
     "output_type": "execute_result"
    },
    {
     "data": {
      "image/png": "[encoded data removed]",
      "text/plain": [
       "<Figure size 432x288 with 1 Axes>"
      ]
     },
     "metadata": {
      "needs_background": "light"
     },
     "output_type": "display_data"
    }
   ],
   "source": [
    "data.groupby(\"sequence\")[\"user_id\"].count().plot(kind='bar')"
   ]
  },
  {
   "cell_type": "code",
   "execution_count": 15,
   "id": "4e87b3d0",
   "metadata": {
    "scrolled": true
   },
   "outputs": [
    {
     "data": {
      "text/plain": [
       "<AxesSubplot:xlabel='user_id'>"
      ]
     },
     "execution_count": 15,
     "metadata": {},
     "output_type": "execute_result"
    },
    {
     "data": {
      "image/png": "[encoded data removed]",
      "text/plain": [
       "<Figure size 432x288 with 1 Axes>"
      ]
     },
     "metadata": {
      "needs_background": "light"
     },
     "output_type": "display_data"
    }
   ],
   "source": [
    "data.groupby(\"user_id\")[\"goal_calories\"].mean().plot()"
   ]
  },
  {
   "cell_type": "code",
   "execution_count": 24,
   "id": "a9e8bee3",
   "metadata": {},
   "outputs": [
    {
     "data": {
      "text/plain": [
       "<AxesSubplot:xlabel='user_id'>"
      ]
     },
     "execution_count": 24,
     "metadata": {},
     "output_type": "execute_result"
    },
    {
     "data": {
      "image/png": "[encoded data removed]",
      "text/plain": [
       "<Figure size 432x288 with 1 Axes>"
      ]
     },
     "metadata": {
      "needs_background": "light"
     },
     "output_type": "display_data"
    }
   ],
   "source": [
    "data.groupby(\"user_id\")[\"total_calories\"].mean().plot()"
   ]
  },
  {
   "cell_type": "markdown",
   "id": "0d184429",
   "metadata": {},
   "source": [
    "It can be seen clearly that there are outliers in the toal_calories column. Removing the entries with the total_calories over 30000 as this is close to humanely impossible."
   ]
  },
  {
   "cell_type": "code",
   "execution_count": 28,
   "id": "25376c2c",
   "metadata": {},
   "outputs": [],
   "source": [
    "data = data.drop(data[data.total_calories >30000].index)"
   ]
  },
  {
   "cell_type": "code",
   "execution_count": 9,
   "id": "27524ef7",
   "metadata": {},
   "outputs": [
    {
     "data": {
      "text/plain": [
       "<BarContainer object of 2 artists>"
      ]
     },
     "execution_count": 9,
     "metadata": {},
     "output_type": "execute_result"
    },
    {
     "data": {
      "image/png": "[encoded data removed]",
      "text/plain": [
       "<Figure size 432x288 with 1 Axes>"
      ]
     },
     "metadata": {
      "needs_background": "light"
     },
     "output_type": "display_data"
    }
   ],
   "source": [
    "nd = (data.groupby(\"user_id\")[\"total_calories\"].mean() - data.groupby(\"user_id\")[\"goal_calories\"].mean())\n",
    "freqs = [1 if i > 0 else -1 for i in nd]\n",
    "c1=0\n",
    "_c1 = 0\n",
    "for i in freqs:\n",
    "    if i>0:\n",
    "        c1+=1\n",
    "    else:\n",
    "        _c1+=1\n",
    "        \n",
    "x = [1830, 8034]\n",
    "y = ['goal exceeded','calorie deficit']\n",
    "plt.bar(y,x)"
   ]
  },
  {
   "cell_type": "code",
   "execution_count": 17,
   "id": "671c20dd",
   "metadata": {},
   "outputs": [
    {
     "data": {
      "text/plain": [
       "<AxesSubplot:title={'center':'total_calories'}, xlabel='user_id'>"
      ]
     },
     "execution_count": 17,
     "metadata": {},
     "output_type": "execute_result"
    },
    {
     "data": {
      "image/png": "[encoded data removed]",
      "text/plain": [
       "<Figure size 432x288 with 1 Axes>"
      ]
     },
     "metadata": {
      "needs_background": "light"
     },
     "output_type": "display_data"
    }
   ],
   "source": [
    "data.head(500).boxplot(column='total_calories', by='user_id')"
   ]
  },
  {
   "cell_type": "code",
   "execution_count": 18,
   "id": "52dc5dcc",
   "metadata": {},
   "outputs": [
    {
     "data": {
      "text/plain": [
       "<AxesSubplot:>"
      ]
     },
     "execution_count": 18,
     "metadata": {},
     "output_type": "execute_result"
    },
    {
     "data": {
      "image/png": "[encoded data removed]",
      "text/plain": [
       "<Figure size 432x288 with 1 Axes>"
      ]
     },
     "metadata": {
      "needs_background": "light"
     },
     "output_type": "display_data"
    }
   ],
   "source": [
    "data.head(500).boxplot(column='goal_calories')"
   ]
  },
  {
   "cell_type": "code",
   "execution_count": 19,
   "id": "4f2719f4",
   "metadata": {
    "scrolled": true
   },
   "outputs": [
    {
     "data": {
      "text/plain": [
       "<AxesSubplot:ylabel='Frequency'>"
      ]
     },
     "execution_count": 19,
     "metadata": {},
     "output_type": "execute_result"
    },
    {
     "data": {
      "image/png": "[encoded data removed]",
      "text/plain": [
       "<Figure size 432x288 with 1 Axes>"
      ]
     },
     "metadata": {
      "needs_background": "light"
     },
     "output_type": "display_data"
    }
   ],
   "source": [
    "data.head(1000).total_calories.plot(kind='hist')"
   ]
  },
  {
   "cell_type": "code",
   "execution_count": 20,
   "id": "6edead35",
   "metadata": {},
   "outputs": [
    {
     "data": {
      "text/plain": [
       "<AxesSubplot:ylabel='Frequency'>"
      ]
     },
     "execution_count": 20,
     "metadata": {},
     "output_type": "execute_result"
    },
    {
     "data": {
      "image/png": "[encoded data removed]",
      "text/plain": [
       "<Figure size 432x288 with 1 Axes>"
      ]
     },
     "metadata": {
      "needs_background": "light"
     },
     "output_type": "display_data"
    }
   ],
   "source": [
    "data.head(1000).goal_calories.plot(kind='hist')"
   ]
  },
  {
   "cell_type": "code",
   "execution_count": null,
   "id": "072d6a3b",
   "metadata": {},
   "outputs": [],
   "source": [
    "sns.lineplot(data=data, x='user_id', y='sequence')"
   ]
  },
  {
   "cell_type": "markdown",
   "id": "fa52a810",
   "metadata": {},
   "source": [
    "Outlier removal"
   ]
  },
  {
   "cell_type": "code",
   "execution_count": 21,
   "id": "3c3b0696",
   "metadata": {},
   "outputs": [
    {
     "name": "stdout",
     "output_type": "stream",
     "text": [
      "        user_id        date  sequence food_ids  total_calories  total_carbs  \\\n",
      "417957     7046  2015-01-30         2  [14816]         1200800            0   \n",
      "\n",
      "        total_fat  total_protein  total_sodium  total_sugar  goal_calories  \\\n",
      "417957   132088.0            0.0           0.0          0.0         1300.0   \n",
      "\n",
      "        goal_carbs  goal_fat  goal_protein  goal_sodium  goal_sugar  \n",
      "417957        65.0      72.0          97.0        100.0        25.0  \n"
     ]
    }
   ],
   "source": [
    "print(data[data.total_calories == data.total_calories.max()])\n",
    "data = data.drop(axis=0,index=417957)"
   ]
  },
  {
   "cell_type": "code",
   "execution_count": 23,
   "id": "21c0840d",
   "metadata": {},
   "outputs": [],
   "source": []
  },
  {
   "cell_type": "code",
   "execution_count": 27,
   "id": "b7c70fb7",
   "metadata": {},
   "outputs": [
    {
     "data": {
      "text/html": [
       "<div>\n",
       "<style scoped>\n",
       "    .dataframe tbody tr th:only-of-type {\n",
       "        vertical-align: middle;\n",
       "    }\n",
       "\n",
       "    .dataframe tbody tr th {\n",
       "        vertical-align: top;\n",
       "    }\n",
       "\n",
       "    .dataframe thead th {\n",
       "        text-align: right;\n",
       "    }\n",
       "</style>\n",
       "<table border=\"1\" class=\"dataframe\">\n",
       "  <thead>\n",
       "    <tr style=\"text-align: right;\">\n",
       "      <th></th>\n",
       "      <th>user_id</th>\n",
       "      <th>date</th>\n",
       "      <th>sequence</th>\n",
       "      <th>food_ids</th>\n",
       "      <th>total_calories</th>\n",
       "      <th>total_carbs</th>\n",
       "      <th>total_fat</th>\n",
       "      <th>total_protein</th>\n",
       "      <th>total_sodium</th>\n",
       "      <th>total_sugar</th>\n",
       "      <th>goal_calories</th>\n",
       "      <th>goal_carbs</th>\n",
       "      <th>goal_fat</th>\n",
       "      <th>goal_protein</th>\n",
       "      <th>goal_sodium</th>\n",
       "      <th>goal_sugar</th>\n",
       "    </tr>\n",
       "  </thead>\n",
       "  <tbody>\n",
       "    <tr>\n",
       "      <th>6531</th>\n",
       "      <td>112</td>\n",
       "      <td>2014-11-10</td>\n",
       "      <td>2</td>\n",
       "      <td>[15911]</td>\n",
       "      <td>21750</td>\n",
       "      <td>325</td>\n",
       "      <td>600.0</td>\n",
       "      <td>3725.0</td>\n",
       "      <td>242500.0</td>\n",
       "      <td>0.0</td>\n",
       "      <td>1920.0</td>\n",
       "      <td>24.0</td>\n",
       "      <td>149.0</td>\n",
       "      <td>120.0</td>\n",
       "      <td>2300.0</td>\n",
       "      <td>38.0</td>\n",
       "    </tr>\n",
       "    <tr>\n",
       "      <th>108219</th>\n",
       "      <td>1859</td>\n",
       "      <td>2014-11-02</td>\n",
       "      <td>4</td>\n",
       "      <td>[157031, 76610, 10870, 89531, 197628, 27016, 6...</td>\n",
       "      <td>10917</td>\n",
       "      <td>876</td>\n",
       "      <td>715.0</td>\n",
       "      <td>123.0</td>\n",
       "      <td>4.0</td>\n",
       "      <td>1600.0</td>\n",
       "      <td>100.0</td>\n",
       "      <td>98.0</td>\n",
       "      <td>80.0</td>\n",
       "      <td>25.0</td>\n",
       "      <td>NaN</td>\n",
       "      <td>NaN</td>\n",
       "    </tr>\n",
       "    <tr>\n",
       "      <th>130802</th>\n",
       "      <td>2231</td>\n",
       "      <td>2014-10-17</td>\n",
       "      <td>6</td>\n",
       "      <td>[19137, 225958, 225959, 225960, 6921, 225961, ...</td>\n",
       "      <td>12531</td>\n",
       "      <td>27945</td>\n",
       "      <td>1646.0</td>\n",
       "      <td>757.0</td>\n",
       "      <td>463.0</td>\n",
       "      <td>101.0</td>\n",
       "      <td>1760.0</td>\n",
       "      <td>1800.0</td>\n",
       "      <td>110.0</td>\n",
       "      <td>40.0</td>\n",
       "      <td>154.0</td>\n",
       "      <td>25.0</td>\n",
       "    </tr>\n",
       "    <tr>\n",
       "      <th>135149</th>\n",
       "      <td>2315</td>\n",
       "      <td>2014-12-18</td>\n",
       "      <td>1</td>\n",
       "      <td>[4]</td>\n",
       "      <td>11000</td>\n",
       "      <td>0</td>\n",
       "      <td>0.0</td>\n",
       "      <td>0.0</td>\n",
       "      <td>0.0</td>\n",
       "      <td>0.0</td>\n",
       "      <td>1340.0</td>\n",
       "      <td>134.0</td>\n",
       "      <td>45.0</td>\n",
       "      <td>101.0</td>\n",
       "      <td>2300.0</td>\n",
       "      <td>50.0</td>\n",
       "    </tr>\n",
       "    <tr>\n",
       "      <th>135152</th>\n",
       "      <td>2315</td>\n",
       "      <td>2014-12-21</td>\n",
       "      <td>1</td>\n",
       "      <td>[4]</td>\n",
       "      <td>11500</td>\n",
       "      <td>0</td>\n",
       "      <td>0.0</td>\n",
       "      <td>0.0</td>\n",
       "      <td>0.0</td>\n",
       "      <td>0.0</td>\n",
       "      <td>1887.0</td>\n",
       "      <td>189.0</td>\n",
       "      <td>63.0</td>\n",
       "      <td>142.0</td>\n",
       "      <td>2300.0</td>\n",
       "      <td>71.0</td>\n",
       "    </tr>\n",
       "    <tr>\n",
       "      <th>...</th>\n",
       "      <td>...</td>\n",
       "      <td>...</td>\n",
       "      <td>...</td>\n",
       "      <td>...</td>\n",
       "      <td>...</td>\n",
       "      <td>...</td>\n",
       "      <td>...</td>\n",
       "      <td>...</td>\n",
       "      <td>...</td>\n",
       "      <td>...</td>\n",
       "      <td>...</td>\n",
       "      <td>...</td>\n",
       "      <td>...</td>\n",
       "      <td>...</td>\n",
       "      <td>...</td>\n",
       "      <td>...</td>\n",
       "    </tr>\n",
       "    <tr>\n",
       "      <th>572481</th>\n",
       "      <td>9655</td>\n",
       "      <td>2015-03-22</td>\n",
       "      <td>6</td>\n",
       "      <td>[16472, 32917, 618691, 398, 98167, 618785, 122...</td>\n",
       "      <td>14750</td>\n",
       "      <td>3517</td>\n",
       "      <td>115.0</td>\n",
       "      <td>286.0</td>\n",
       "      <td>2727.0</td>\n",
       "      <td>1799.0</td>\n",
       "      <td>2815.0</td>\n",
       "      <td>351.0</td>\n",
       "      <td>93.0</td>\n",
       "      <td>139.0</td>\n",
       "      <td>2300.0</td>\n",
       "      <td>91.0</td>\n",
       "    </tr>\n",
       "    <tr>\n",
       "      <th>572482</th>\n",
       "      <td>9655</td>\n",
       "      <td>2015-03-23</td>\n",
       "      <td>6</td>\n",
       "      <td>[98167, 618691, 16472, 353490, 27599, 19047, 6...</td>\n",
       "      <td>15020</td>\n",
       "      <td>3589</td>\n",
       "      <td>110.0</td>\n",
       "      <td>280.0</td>\n",
       "      <td>1979.0</td>\n",
       "      <td>1825.0</td>\n",
       "      <td>2062.0</td>\n",
       "      <td>257.0</td>\n",
       "      <td>68.0</td>\n",
       "      <td>102.0</td>\n",
       "      <td>2300.0</td>\n",
       "      <td>67.0</td>\n",
       "    </tr>\n",
       "    <tr>\n",
       "      <th>572484</th>\n",
       "      <td>9655</td>\n",
       "      <td>2015-03-25</td>\n",
       "      <td>1</td>\n",
       "      <td>[16472, 618691, 251726, 155693, 81563, 329236]</td>\n",
       "      <td>21269</td>\n",
       "      <td>5428</td>\n",
       "      <td>84.0</td>\n",
       "      <td>283.0</td>\n",
       "      <td>953.0</td>\n",
       "      <td>2803.0</td>\n",
       "      <td>2184.0</td>\n",
       "      <td>272.0</td>\n",
       "      <td>72.0</td>\n",
       "      <td>108.0</td>\n",
       "      <td>2300.0</td>\n",
       "      <td>71.0</td>\n",
       "    </tr>\n",
       "    <tr>\n",
       "      <th>572488</th>\n",
       "      <td>9655</td>\n",
       "      <td>2015-03-29</td>\n",
       "      <td>3</td>\n",
       "      <td>[27599, 16472, 37300, 618691, 233252]</td>\n",
       "      <td>13540</td>\n",
       "      <td>3403</td>\n",
       "      <td>78.0</td>\n",
       "      <td>174.0</td>\n",
       "      <td>390.0</td>\n",
       "      <td>1759.0</td>\n",
       "      <td>1848.0</td>\n",
       "      <td>230.0</td>\n",
       "      <td>61.0</td>\n",
       "      <td>91.0</td>\n",
       "      <td>2300.0</td>\n",
       "      <td>60.0</td>\n",
       "    </tr>\n",
       "    <tr>\n",
       "      <th>586174</th>\n",
       "      <td>9881</td>\n",
       "      <td>2015-03-04</td>\n",
       "      <td>6</td>\n",
       "      <td>[1094, 208076, 3186, 35866, 628148, 10601, 553...</td>\n",
       "      <td>11893</td>\n",
       "      <td>2093</td>\n",
       "      <td>382.0</td>\n",
       "      <td>312.0</td>\n",
       "      <td>6474.0</td>\n",
       "      <td>1043.0</td>\n",
       "      <td>322.0</td>\n",
       "      <td>76.0</td>\n",
       "      <td>0.0</td>\n",
       "      <td>4.0</td>\n",
       "      <td>2300.0</td>\n",
       "      <td>100.0</td>\n",
       "    </tr>\n",
       "  </tbody>\n",
       "</table>\n",
       "<p>62 rows × 16 columns</p>\n",
       "</div>"
      ],
      "text/plain": [
       "        user_id        date  sequence  \\\n",
       "6531        112  2014-11-10         2   \n",
       "108219     1859  2014-11-02         4   \n",
       "130802     2231  2014-10-17         6   \n",
       "135149     2315  2014-12-18         1   \n",
       "135152     2315  2014-12-21         1   \n",
       "...         ...         ...       ...   \n",
       "572481     9655  2015-03-22         6   \n",
       "572482     9655  2015-03-23         6   \n",
       "572484     9655  2015-03-25         1   \n",
       "572488     9655  2015-03-29         3   \n",
       "586174     9881  2015-03-04         6   \n",
       "\n",
       "                                                 food_ids  total_calories  \\\n",
       "6531                                              [15911]           21750   \n",
       "108219  [157031, 76610, 10870, 89531, 197628, 27016, 6...           10917   \n",
       "130802  [19137, 225958, 225959, 225960, 6921, 225961, ...           12531   \n",
       "135149                                                [4]           11000   \n",
       "135152                                                [4]           11500   \n",
       "...                                                   ...             ...   \n",
       "572481  [16472, 32917, 618691, 398, 98167, 618785, 122...           14750   \n",
       "572482  [98167, 618691, 16472, 353490, 27599, 19047, 6...           15020   \n",
       "572484     [16472, 618691, 251726, 155693, 81563, 329236]           21269   \n",
       "572488              [27599, 16472, 37300, 618691, 233252]           13540   \n",
       "586174  [1094, 208076, 3186, 35866, 628148, 10601, 553...           11893   \n",
       "\n",
       "        total_carbs  total_fat  total_protein  total_sodium  total_sugar  \\\n",
       "6531            325      600.0         3725.0      242500.0          0.0   \n",
       "108219          876      715.0          123.0           4.0       1600.0   \n",
       "130802        27945     1646.0          757.0         463.0        101.0   \n",
       "135149            0        0.0            0.0           0.0          0.0   \n",
       "135152            0        0.0            0.0           0.0          0.0   \n",
       "...             ...        ...            ...           ...          ...   \n",
       "572481         3517      115.0          286.0        2727.0       1799.0   \n",
       "572482         3589      110.0          280.0        1979.0       1825.0   \n",
       "572484         5428       84.0          283.0         953.0       2803.0   \n",
       "572488         3403       78.0          174.0         390.0       1759.0   \n",
       "586174         2093      382.0          312.0        6474.0       1043.0   \n",
       "\n",
       "        goal_calories  goal_carbs  goal_fat  goal_protein  goal_sodium  \\\n",
       "6531           1920.0        24.0     149.0         120.0       2300.0   \n",
       "108219          100.0        98.0      80.0          25.0          NaN   \n",
       "130802         1760.0      1800.0     110.0          40.0        154.0   \n",
       "135149         1340.0       134.0      45.0         101.0       2300.0   \n",
       "135152         1887.0       189.0      63.0         142.0       2300.0   \n",
       "...               ...         ...       ...           ...          ...   \n",
       "572481         2815.0       351.0      93.0         139.0       2300.0   \n",
       "572482         2062.0       257.0      68.0         102.0       2300.0   \n",
       "572484         2184.0       272.0      72.0         108.0       2300.0   \n",
       "572488         1848.0       230.0      61.0          91.0       2300.0   \n",
       "586174          322.0        76.0       0.0           4.0       2300.0   \n",
       "\n",
       "        goal_sugar  \n",
       "6531          38.0  \n",
       "108219         NaN  \n",
       "130802        25.0  \n",
       "135149        50.0  \n",
       "135152        71.0  \n",
       "...            ...  \n",
       "572481        91.0  \n",
       "572482        67.0  \n",
       "572484        71.0  \n",
       "572488        60.0  \n",
       "586174       100.0  \n",
       "\n",
       "[62 rows x 16 columns]"
      ]
     },
     "execution_count": 27,
     "metadata": {},
     "output_type": "execute_result"
    }
   ],
   "source": [
    "data[data.total_calories >10000]"
   ]
  },
  {
   "cell_type": "code",
   "execution_count": null,
   "id": "8403237e",
   "metadata": {},
   "outputs": [],
   "source": [
    "len(data[data.total_calories < 500]['user_id'].unique())"
   ]
  },
  {
   "cell_type": "code",
   "execution_count": null,
   "id": "30a5c69c",
   "metadata": {},
   "outputs": [],
   "source": [
    "data[data.goal_calories < 500]['user_id'].count()"
   ]
  },
  {
   "cell_type": "code",
   "execution_count": null,
   "id": "247c3173",
   "metadata": {},
   "outputs": [],
   "source": [
    "len(data.user_id.unique())"
   ]
  },
  {
   "cell_type": "code",
   "execution_count": 38,
   "id": "c175fe50",
   "metadata": {},
   "outputs": [
    {
     "data": {
      "text/plain": [
       "array([ 112, 5511, 6427, 9230, 9655], dtype=int64)"
      ]
     },
     "execution_count": 38,
     "metadata": {},
     "output_type": "execute_result"
    }
   ],
   "source": [
    "data[data.total_calories>20000]['user_id'].unique()"
   ]
  },
  {
   "cell_type": "code",
   "execution_count": null,
   "id": "b1f2ea1f",
   "metadata": {},
   "outputs": [],
   "source": []
  }
 ],
 "metadata": {
  "kernelspec": {
   "display_name": "Python 3 (ipykernel)",
   "language": "python",
   "name": "python3"
  },
  "language_info": {
   "codemirror_mode": {
    "name": "ipython",
    "version": 3
   },
   "file_extension": ".py",
   "mimetype": "text/x-python",
   "name": "python",
   "nbconvert_exporter": "python",
   "pygments_lexer": "ipython3",
   "version": "3.9.7"
  }
 },
 "nbformat": 4,
 "nbformat_minor": 5
}
