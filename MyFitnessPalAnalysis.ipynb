{
 "cells": [
  {
   "cell_type": "code",
   "execution_count": 1,
   "id": "fe9109a8",
   "metadata": {},
   "outputs": [],
   "source": [
    "import pandas as pd\n",
    "import numpy as np\n",
    "import matplotlib.pyplot as plt\n",
    "import seaborn as sns"
   ]
  },
  {
   "cell_type": "code",
   "execution_count": 2,
   "id": "6dba282c",
   "metadata": {},
   "outputs": [],
   "source": [
    "data = pd.read_csv('mfp.csv')"
   ]
  },
  {
   "cell_type": "code",
   "execution_count": 3,
   "id": "fc1e1101",
   "metadata": {},
   "outputs": [
    {
     "name": "stdout",
     "output_type": "stream",
     "text": [
      "<class 'pandas.core.frame.DataFrame'>\n",
      "RangeIndex: 587186 entries, 0 to 587185\n",
      "Data columns (total 16 columns):\n",
      " #   Column          Non-Null Count   Dtype  \n",
      "---  ------          --------------   -----  \n",
      " 0   user_id         587186 non-null  int64  \n",
      " 1   date            587186 non-null  object \n",
      " 2   sequence        587186 non-null  int64  \n",
      " 3   food_ids        587186 non-null  object \n",
      " 4   total_calories  587186 non-null  int64  \n",
      " 5   total_carbs     587186 non-null  int64  \n",
      " 6   total_fat       586309 non-null  float64\n",
      " 7   total_protein   586309 non-null  float64\n",
      " 8   total_sodium    585881 non-null  float64\n",
      " 9   total_sugar     585879 non-null  float64\n",
      " 10  goal_calories   585264 non-null  float64\n",
      " 11  goal_carbs      585261 non-null  float64\n",
      " 12  goal_fat        559873 non-null  float64\n",
      " 13  goal_protein    559868 non-null  float64\n",
      " 14  goal_sodium     519466 non-null  float64\n",
      " 15  goal_sugar      519196 non-null  float64\n",
      "dtypes: float64(10), int64(4), object(2)\n",
      "memory usage: 71.7+ MB\n"
     ]
    }
   ],
   "source": [
    "data.info()"
   ]
  },
  {
   "cell_type": "code",
   "execution_count": 4,
   "id": "71c30dfe",
   "metadata": {},
   "outputs": [
    {
     "data": {
      "text/html": [
       "<div>\n",
       "<style scoped>\n",
       "    .dataframe tbody tr th:only-of-type {\n",
       "        vertical-align: middle;\n",
       "    }\n",
       "\n",
       "    .dataframe tbody tr th {\n",
       "        vertical-align: top;\n",
       "    }\n",
       "\n",
       "    .dataframe thead th {\n",
       "        text-align: right;\n",
       "    }\n",
       "</style>\n",
       "<table border=\"1\" class=\"dataframe\">\n",
       "  <thead>\n",
       "    <tr style=\"text-align: right;\">\n",
       "      <th></th>\n",
       "      <th>user_id</th>\n",
       "      <th>date</th>\n",
       "      <th>sequence</th>\n",
       "      <th>food_ids</th>\n",
       "      <th>total_calories</th>\n",
       "      <th>total_carbs</th>\n",
       "      <th>total_fat</th>\n",
       "      <th>total_protein</th>\n",
       "      <th>total_sodium</th>\n",
       "      <th>total_sugar</th>\n",
       "      <th>goal_calories</th>\n",
       "      <th>goal_carbs</th>\n",
       "      <th>goal_fat</th>\n",
       "      <th>goal_protein</th>\n",
       "      <th>goal_sodium</th>\n",
       "      <th>goal_sugar</th>\n",
       "    </tr>\n",
       "  </thead>\n",
       "  <tbody>\n",
       "    <tr>\n",
       "      <th>0</th>\n",
       "      <td>1</td>\n",
       "      <td>2014-09-15</td>\n",
       "      <td>1</td>\n",
       "      <td>[1, 2, 3, 4, 4]</td>\n",
       "      <td>2430</td>\n",
       "      <td>96</td>\n",
       "      <td>37.0</td>\n",
       "      <td>50.0</td>\n",
       "      <td>855.0</td>\n",
       "      <td>63.0</td>\n",
       "      <td>1572.0</td>\n",
       "      <td>196.0</td>\n",
       "      <td>52.0</td>\n",
       "      <td>79.0</td>\n",
       "      <td>2300.0</td>\n",
       "      <td>59.0</td>\n",
       "    </tr>\n",
       "    <tr>\n",
       "      <th>1</th>\n",
       "      <td>1</td>\n",
       "      <td>2014-09-16</td>\n",
       "      <td>1</td>\n",
       "      <td>[5, 1, 2, 3, 6, 7]</td>\n",
       "      <td>1862</td>\n",
       "      <td>158</td>\n",
       "      <td>54.0</td>\n",
       "      <td>114.0</td>\n",
       "      <td>2215.0</td>\n",
       "      <td>100.0</td>\n",
       "      <td>1832.0</td>\n",
       "      <td>229.0</td>\n",
       "      <td>61.0</td>\n",
       "      <td>92.0</td>\n",
       "      <td>2300.0</td>\n",
       "      <td>69.0</td>\n",
       "    </tr>\n",
       "    <tr>\n",
       "      <th>2</th>\n",
       "      <td>1</td>\n",
       "      <td>2014-09-17</td>\n",
       "      <td>1</td>\n",
       "      <td>[1, 2, 3, 6, 8, 9, 10]</td>\n",
       "      <td>2251</td>\n",
       "      <td>187</td>\n",
       "      <td>60.0</td>\n",
       "      <td>98.0</td>\n",
       "      <td>1765.0</td>\n",
       "      <td>105.0</td>\n",
       "      <td>1685.0</td>\n",
       "      <td>210.0</td>\n",
       "      <td>56.0</td>\n",
       "      <td>85.0</td>\n",
       "      <td>2300.0</td>\n",
       "      <td>63.0</td>\n",
       "    </tr>\n",
       "    <tr>\n",
       "      <th>3</th>\n",
       "      <td>1</td>\n",
       "      <td>2014-09-18</td>\n",
       "      <td>1</td>\n",
       "      <td>[1, 6, 2, 3, 11, 12]</td>\n",
       "      <td>2001</td>\n",
       "      <td>113</td>\n",
       "      <td>81.0</td>\n",
       "      <td>202.0</td>\n",
       "      <td>1101.0</td>\n",
       "      <td>71.0</td>\n",
       "      <td>1597.0</td>\n",
       "      <td>199.0</td>\n",
       "      <td>53.0</td>\n",
       "      <td>80.0</td>\n",
       "      <td>2300.0</td>\n",
       "      <td>60.0</td>\n",
       "    </tr>\n",
       "    <tr>\n",
       "      <th>4</th>\n",
       "      <td>1</td>\n",
       "      <td>2014-09-19</td>\n",
       "      <td>1</td>\n",
       "      <td>[1, 7, 13, 12, 2, 3, 12, 12]</td>\n",
       "      <td>2158</td>\n",
       "      <td>180</td>\n",
       "      <td>89.0</td>\n",
       "      <td>115.0</td>\n",
       "      <td>1998.0</td>\n",
       "      <td>84.0</td>\n",
       "      <td>1589.0</td>\n",
       "      <td>198.0</td>\n",
       "      <td>53.0</td>\n",
       "      <td>80.0</td>\n",
       "      <td>2300.0</td>\n",
       "      <td>60.0</td>\n",
       "    </tr>\n",
       "  </tbody>\n",
       "</table>\n",
       "</div>"
      ],
      "text/plain": [
       "   user_id        date  sequence                      food_ids  \\\n",
       "0        1  2014-09-15         1               [1, 2, 3, 4, 4]   \n",
       "1        1  2014-09-16         1            [5, 1, 2, 3, 6, 7]   \n",
       "2        1  2014-09-17         1        [1, 2, 3, 6, 8, 9, 10]   \n",
       "3        1  2014-09-18         1          [1, 6, 2, 3, 11, 12]   \n",
       "4        1  2014-09-19         1  [1, 7, 13, 12, 2, 3, 12, 12]   \n",
       "\n",
       "   total_calories  total_carbs  total_fat  total_protein  total_sodium  \\\n",
       "0            2430           96       37.0           50.0         855.0   \n",
       "1            1862          158       54.0          114.0        2215.0   \n",
       "2            2251          187       60.0           98.0        1765.0   \n",
       "3            2001          113       81.0          202.0        1101.0   \n",
       "4            2158          180       89.0          115.0        1998.0   \n",
       "\n",
       "   total_sugar  goal_calories  goal_carbs  goal_fat  goal_protein  \\\n",
       "0         63.0         1572.0       196.0      52.0          79.0   \n",
       "1        100.0         1832.0       229.0      61.0          92.0   \n",
       "2        105.0         1685.0       210.0      56.0          85.0   \n",
       "3         71.0         1597.0       199.0      53.0          80.0   \n",
       "4         84.0         1589.0       198.0      53.0          80.0   \n",
       "\n",
       "   goal_sodium  goal_sugar  \n",
       "0       2300.0        59.0  \n",
       "1       2300.0        69.0  \n",
       "2       2300.0        63.0  \n",
       "3       2300.0        60.0  \n",
       "4       2300.0        60.0  "
      ]
     },
     "execution_count": 4,
     "metadata": {},
     "output_type": "execute_result"
    }
   ],
   "source": [
    "data.head()"
   ]
  },
  {
   "cell_type": "code",
   "execution_count": 5,
   "id": "3d48e20a",
   "metadata": {},
   "outputs": [
    {
     "data": {
      "text/plain": [
       "user_id               0\n",
       "date                  0\n",
       "sequence              0\n",
       "food_ids              0\n",
       "total_calories        0\n",
       "total_carbs           0\n",
       "total_fat           877\n",
       "total_protein       877\n",
       "total_sodium       1305\n",
       "total_sugar        1307\n",
       "goal_calories      1922\n",
       "goal_carbs         1925\n",
       "goal_fat          27313\n",
       "goal_protein      27318\n",
       "goal_sodium       67720\n",
       "goal_sugar        67990\n",
       "dtype: int64"
      ]
     },
     "execution_count": 5,
     "metadata": {},
     "output_type": "execute_result"
    }
   ],
   "source": [
    "data.isna().sum()"
   ]
  },
  {
   "cell_type": "code",
   "execution_count": 6,
   "id": "910efdf5",
   "metadata": {
    "scrolled": false
   },
   "outputs": [
    {
     "data": {
      "text/html": [
       "<div>\n",
       "<style scoped>\n",
       "    .dataframe tbody tr th:only-of-type {\n",
       "        vertical-align: middle;\n",
       "    }\n",
       "\n",
       "    .dataframe tbody tr th {\n",
       "        vertical-align: top;\n",
       "    }\n",
       "\n",
       "    .dataframe thead th {\n",
       "        text-align: right;\n",
       "    }\n",
       "</style>\n",
       "<table border=\"1\" class=\"dataframe\">\n",
       "  <thead>\n",
       "    <tr style=\"text-align: right;\">\n",
       "      <th></th>\n",
       "      <th>user_id</th>\n",
       "      <th>sequence</th>\n",
       "      <th>total_calories</th>\n",
       "      <th>total_carbs</th>\n",
       "      <th>total_fat</th>\n",
       "      <th>total_protein</th>\n",
       "      <th>total_sodium</th>\n",
       "      <th>total_sugar</th>\n",
       "      <th>goal_calories</th>\n",
       "      <th>goal_carbs</th>\n",
       "      <th>goal_fat</th>\n",
       "      <th>goal_protein</th>\n",
       "      <th>goal_sodium</th>\n",
       "      <th>goal_sugar</th>\n",
       "    </tr>\n",
       "  </thead>\n",
       "  <tbody>\n",
       "    <tr>\n",
       "      <th>count</th>\n",
       "      <td>587186.000000</td>\n",
       "      <td>587186.000000</td>\n",
       "      <td>5.871860e+05</td>\n",
       "      <td>587186.000000</td>\n",
       "      <td>586309.000000</td>\n",
       "      <td>586309.000000</td>\n",
       "      <td>585881.000000</td>\n",
       "      <td>585879.000000</td>\n",
       "      <td>585264.000000</td>\n",
       "      <td>585261.000000</td>\n",
       "      <td>559873.000000</td>\n",
       "      <td>559868.000000</td>\n",
       "      <td>519466.000000</td>\n",
       "      <td>519196.000000</td>\n",
       "    </tr>\n",
       "    <tr>\n",
       "      <th>mean</th>\n",
       "      <td>4946.928031</td>\n",
       "      <td>4.004532</td>\n",
       "      <td>1.421923e+03</td>\n",
       "      <td>153.679057</td>\n",
       "      <td>71.235077</td>\n",
       "      <td>93.821524</td>\n",
       "      <td>1157.984207</td>\n",
       "      <td>407.563147</td>\n",
       "      <td>1613.422573</td>\n",
       "      <td>194.222680</td>\n",
       "      <td>90.101536</td>\n",
       "      <td>157.212782</td>\n",
       "      <td>1446.919333</td>\n",
       "      <td>411.366736</td>\n",
       "    </tr>\n",
       "    <tr>\n",
       "      <th>std</th>\n",
       "      <td>2844.719822</td>\n",
       "      <td>1.341577</td>\n",
       "      <td>2.284502e+03</td>\n",
       "      <td>355.777029</td>\n",
       "      <td>277.018504</td>\n",
       "      <td>289.062514</td>\n",
       "      <td>2049.176072</td>\n",
       "      <td>907.108966</td>\n",
       "      <td>722.874981</td>\n",
       "      <td>352.425203</td>\n",
       "      <td>240.765991</td>\n",
       "      <td>390.169810</td>\n",
       "      <td>1166.553691</td>\n",
       "      <td>886.227384</td>\n",
       "    </tr>\n",
       "    <tr>\n",
       "      <th>min</th>\n",
       "      <td>1.000000</td>\n",
       "      <td>1.000000</td>\n",
       "      <td>0.000000e+00</td>\n",
       "      <td>0.000000</td>\n",
       "      <td>0.000000</td>\n",
       "      <td>0.000000</td>\n",
       "      <td>0.000000</td>\n",
       "      <td>0.000000</td>\n",
       "      <td>0.000000</td>\n",
       "      <td>0.000000</td>\n",
       "      <td>0.000000</td>\n",
       "      <td>0.000000</td>\n",
       "      <td>0.000000</td>\n",
       "      <td>0.000000</td>\n",
       "    </tr>\n",
       "    <tr>\n",
       "      <th>25%</th>\n",
       "      <td>2513.000000</td>\n",
       "      <td>3.000000</td>\n",
       "      <td>1.038000e+03</td>\n",
       "      <td>76.000000</td>\n",
       "      <td>29.000000</td>\n",
       "      <td>40.000000</td>\n",
       "      <td>30.000000</td>\n",
       "      <td>22.000000</td>\n",
       "      <td>1314.000000</td>\n",
       "      <td>122.000000</td>\n",
       "      <td>46.000000</td>\n",
       "      <td>70.000000</td>\n",
       "      <td>56.000000</td>\n",
       "      <td>45.000000</td>\n",
       "    </tr>\n",
       "    <tr>\n",
       "      <th>50%</th>\n",
       "      <td>4928.000000</td>\n",
       "      <td>4.000000</td>\n",
       "      <td>1.403000e+03</td>\n",
       "      <td>135.000000</td>\n",
       "      <td>49.000000</td>\n",
       "      <td>66.000000</td>\n",
       "      <td>690.000000</td>\n",
       "      <td>51.000000</td>\n",
       "      <td>1630.000000</td>\n",
       "      <td>178.000000</td>\n",
       "      <td>58.000000</td>\n",
       "      <td>96.000000</td>\n",
       "      <td>2300.000000</td>\n",
       "      <td>64.000000</td>\n",
       "    </tr>\n",
       "    <tr>\n",
       "      <th>75%</th>\n",
       "      <td>7427.000000</td>\n",
       "      <td>5.000000</td>\n",
       "      <td>1.766000e+03</td>\n",
       "      <td>191.000000</td>\n",
       "      <td>72.000000</td>\n",
       "      <td>98.000000</td>\n",
       "      <td>1982.000000</td>\n",
       "      <td>139.000000</td>\n",
       "      <td>1991.000000</td>\n",
       "      <td>227.000000</td>\n",
       "      <td>77.000000</td>\n",
       "      <td>135.000000</td>\n",
       "      <td>2300.000000</td>\n",
       "      <td>100.000000</td>\n",
       "    </tr>\n",
       "    <tr>\n",
       "      <th>max</th>\n",
       "      <td>9897.000000</td>\n",
       "      <td>6.000000</td>\n",
       "      <td>1.200800e+06</td>\n",
       "      <td>210865.000000</td>\n",
       "      <td>132088.000000</td>\n",
       "      <td>114949.000000</td>\n",
       "      <td>960000.000000</td>\n",
       "      <td>168015.000000</td>\n",
       "      <td>26068.000000</td>\n",
       "      <td>154417.000000</td>\n",
       "      <td>38128.000000</td>\n",
       "      <td>102945.000000</td>\n",
       "      <td>23009.000000</td>\n",
       "      <td>35055.000000</td>\n",
       "    </tr>\n",
       "  </tbody>\n",
       "</table>\n",
       "</div>"
      ],
      "text/plain": [
       "             user_id       sequence  total_calories    total_carbs  \\\n",
       "count  587186.000000  587186.000000    5.871860e+05  587186.000000   \n",
       "mean     4946.928031       4.004532    1.421923e+03     153.679057   \n",
       "std      2844.719822       1.341577    2.284502e+03     355.777029   \n",
       "min         1.000000       1.000000    0.000000e+00       0.000000   \n",
       "25%      2513.000000       3.000000    1.038000e+03      76.000000   \n",
       "50%      4928.000000       4.000000    1.403000e+03     135.000000   \n",
       "75%      7427.000000       5.000000    1.766000e+03     191.000000   \n",
       "max      9897.000000       6.000000    1.200800e+06  210865.000000   \n",
       "\n",
       "           total_fat  total_protein   total_sodium    total_sugar  \\\n",
       "count  586309.000000  586309.000000  585881.000000  585879.000000   \n",
       "mean       71.235077      93.821524    1157.984207     407.563147   \n",
       "std       277.018504     289.062514    2049.176072     907.108966   \n",
       "min         0.000000       0.000000       0.000000       0.000000   \n",
       "25%        29.000000      40.000000      30.000000      22.000000   \n",
       "50%        49.000000      66.000000     690.000000      51.000000   \n",
       "75%        72.000000      98.000000    1982.000000     139.000000   \n",
       "max    132088.000000  114949.000000  960000.000000  168015.000000   \n",
       "\n",
       "       goal_calories     goal_carbs       goal_fat   goal_protein  \\\n",
       "count  585264.000000  585261.000000  559873.000000  559868.000000   \n",
       "mean     1613.422573     194.222680      90.101536     157.212782   \n",
       "std       722.874981     352.425203     240.765991     390.169810   \n",
       "min         0.000000       0.000000       0.000000       0.000000   \n",
       "25%      1314.000000     122.000000      46.000000      70.000000   \n",
       "50%      1630.000000     178.000000      58.000000      96.000000   \n",
       "75%      1991.000000     227.000000      77.000000     135.000000   \n",
       "max     26068.000000  154417.000000   38128.000000  102945.000000   \n",
       "\n",
       "         goal_sodium     goal_sugar  \n",
       "count  519466.000000  519196.000000  \n",
       "mean     1446.919333     411.366736  \n",
       "std      1166.553691     886.227384  \n",
       "min         0.000000       0.000000  \n",
       "25%        56.000000      45.000000  \n",
       "50%      2300.000000      64.000000  \n",
       "75%      2300.000000     100.000000  \n",
       "max     23009.000000   35055.000000  "
      ]
     },
     "execution_count": 6,
     "metadata": {},
     "output_type": "execute_result"
    }
   ],
   "source": [
    "data.describe()"
   ]
  },
  {
   "cell_type": "markdown",
   "id": "1a65a137",
   "metadata": {},
   "source": [
    "# EDA"
   ]
  },
  {
   "cell_type": "markdown",
   "id": "923701ca",
   "metadata": {},
   "source": [
    "Lets try to analyze people's food preferences and find the most consumed substances to aid the stores in better and efficient stocking of items."
   ]
  },
  {
   "cell_type": "code",
   "execution_count": 7,
   "id": "71ec0899",
   "metadata": {},
   "outputs": [],
   "source": [
    "import json\n",
    "with open('foods.json') as json_file:\n",
    "     dishes_list = json.load(json_file)\n",
    "#food_names['Uncle Tobys Australia - Vita Brits']\n",
    "inv_dishes_list = {v: k for k, v in dishes_list.items()}"
   ]
  },
  {
   "cell_type": "code",
   "execution_count": 8,
   "id": "d7f14a50",
   "metadata": {},
   "outputs": [],
   "source": [
    "def link_food(names,lst):\n",
    "    for i in lst[1:-1].split(\",\"):\n",
    "        i = i.replace(' ','')\n",
    "        names[i] = names.get(i,0)+1\n",
    "        \n",
    "def popular_foods(df,pops):\n",
    "    names = {}\n",
    "    df[\"food_ids\"].apply(lambda lst: link_food(names,lst))\n",
    "    pop_ids = list(sorted(names.items(), key=lambda item: item[1]))\n",
    "    pop_ids = [k for k,v in pop_ids]\n",
    "    pop_ids.reverse()\n",
    "    return pop_ids[:10]\n",
    "data[\"month\"] = data[\"date\"].apply(lambda x: x[5:7])\n",
    "max_food_in_month = data.groupby(['month']).apply(lambda x: popular_foods(x,10))\n",
    "del data[\"month\"]\n",
    "\n",
    "popdf = pd.DataFrame(max_food_in_month)\n",
    "popdf = popdf.apply(lambda x: x[0], axis = 1, result_type ='expand').reset_index()\n",
    "popdf.columns = [\"month\",\"1\",\"2\",\"3\",\"4\",\"5\",\"6\",\"7\",\"8\",\"9\",\"10\"]\n",
    "for col in popdf.columns[1:]:\n",
    "    popdf[col] = popdf[col].apply(lambda food_id: inv_dishes_list[int(food_id)])"
   ]
  },
  {
   "cell_type": "code",
   "execution_count": 9,
   "id": "bf2f97d8",
   "metadata": {},
   "outputs": [
    {
     "data": {
      "text/html": [
       "<div>\n",
       "<style scoped>\n",
       "    .dataframe tbody tr th:only-of-type {\n",
       "        vertical-align: middle;\n",
       "    }\n",
       "\n",
       "    .dataframe tbody tr th {\n",
       "        vertical-align: top;\n",
       "    }\n",
       "\n",
       "    .dataframe thead th {\n",
       "        text-align: right;\n",
       "    }\n",
       "</style>\n",
       "<table border=\"1\" class=\"dataframe\">\n",
       "  <thead>\n",
       "    <tr style=\"text-align: right;\">\n",
       "      <th></th>\n",
       "      <th>month</th>\n",
       "      <th>1</th>\n",
       "      <th>2</th>\n",
       "      <th>3</th>\n",
       "      <th>4</th>\n",
       "      <th>5</th>\n",
       "      <th>6</th>\n",
       "      <th>7</th>\n",
       "      <th>8</th>\n",
       "      <th>9</th>\n",
       "      <th>10</th>\n",
       "    </tr>\n",
       "  </thead>\n",
       "  <tbody>\n",
       "    <tr>\n",
       "      <th>0</th>\n",
       "      <td>01</td>\n",
       "      <td>Coffee - Brewed from grounds</td>\n",
       "      <td>Quick Added Calories</td>\n",
       "      <td>Bananas - Raw</td>\n",
       "      <td>Spinach - Raw</td>\n",
       "      <td>Butter - Salted</td>\n",
       "      <td>Apples - Raw</td>\n",
       "      <td>Strawberries - Raw</td>\n",
       "      <td>Blueberries - Raw</td>\n",
       "      <td>Cucumber - With peel</td>\n",
       "      <td>Carrots - Raw</td>\n",
       "    </tr>\n",
       "    <tr>\n",
       "      <th>1</th>\n",
       "      <td>02</td>\n",
       "      <td>Coffee - Brewed from grounds</td>\n",
       "      <td>Quick Added Calories</td>\n",
       "      <td>Bananas - Raw</td>\n",
       "      <td>Spinach - Raw</td>\n",
       "      <td>Strawberries - Raw</td>\n",
       "      <td>Blueberries - Raw</td>\n",
       "      <td>Butter - Salted</td>\n",
       "      <td>Apples - Raw</td>\n",
       "      <td>Cucumber - With peel</td>\n",
       "      <td>Carrots - Raw</td>\n",
       "    </tr>\n",
       "    <tr>\n",
       "      <th>2</th>\n",
       "      <td>03</td>\n",
       "      <td>Coffee - Brewed from grounds</td>\n",
       "      <td>Quick Added Calories</td>\n",
       "      <td>Bananas - Raw</td>\n",
       "      <td>Strawberries - Raw</td>\n",
       "      <td>Spinach - Raw</td>\n",
       "      <td>Butter - Salted</td>\n",
       "      <td>Apples - Raw</td>\n",
       "      <td>Chicken - Breast</td>\n",
       "      <td>Cucumber - With peel</td>\n",
       "      <td>Blueberries - Raw</td>\n",
       "    </tr>\n",
       "    <tr>\n",
       "      <th>3</th>\n",
       "      <td>04</td>\n",
       "      <td>Coffee - Brewed from grounds</td>\n",
       "      <td>Quick Added Calories</td>\n",
       "      <td>Strawberries - Raw</td>\n",
       "      <td>Bananas - Raw</td>\n",
       "      <td>Apples - Raw</td>\n",
       "      <td>Spinach - Raw</td>\n",
       "      <td>Chicken - Breast</td>\n",
       "      <td>Carrots - Raw</td>\n",
       "      <td>Blueberries - Raw</td>\n",
       "      <td>Butter - Salted</td>\n",
       "    </tr>\n",
       "    <tr>\n",
       "      <th>4</th>\n",
       "      <td>09</td>\n",
       "      <td>Coffee - Brewed from grounds</td>\n",
       "      <td>Quick Added Calories</td>\n",
       "      <td>Bananas - Raw</td>\n",
       "      <td>Spinach - Raw</td>\n",
       "      <td>Cucumber - With peel</td>\n",
       "      <td>Apples - Raw</td>\n",
       "      <td>Oil - Olive</td>\n",
       "      <td>Butter - Salted</td>\n",
       "      <td>Carrots - Raw</td>\n",
       "      <td>Strawberries - Raw</td>\n",
       "    </tr>\n",
       "    <tr>\n",
       "      <th>5</th>\n",
       "      <td>10</td>\n",
       "      <td>Coffee - Brewed from grounds</td>\n",
       "      <td>Quick Added Calories</td>\n",
       "      <td>Bananas - Raw</td>\n",
       "      <td>Apples - Raw</td>\n",
       "      <td>Spinach - Raw</td>\n",
       "      <td>Oil - Olive</td>\n",
       "      <td>Butter - Salted</td>\n",
       "      <td>Cucumber - With peel</td>\n",
       "      <td>Carrots - Raw</td>\n",
       "      <td>Peppers - Sweet</td>\n",
       "    </tr>\n",
       "    <tr>\n",
       "      <th>6</th>\n",
       "      <td>11</td>\n",
       "      <td>Coffee - Brewed from grounds</td>\n",
       "      <td>Quick Added Calories</td>\n",
       "      <td>Bananas - Raw</td>\n",
       "      <td>Apples - Raw</td>\n",
       "      <td>Spinach - Raw</td>\n",
       "      <td>Butter - Salted</td>\n",
       "      <td>Carrots - Raw</td>\n",
       "      <td>Cucumber - With peel</td>\n",
       "      <td>Oil - Olive</td>\n",
       "      <td>Chicken - Breast</td>\n",
       "    </tr>\n",
       "    <tr>\n",
       "      <th>7</th>\n",
       "      <td>12</td>\n",
       "      <td>Coffee - Brewed from grounds</td>\n",
       "      <td>Quick Added Calories</td>\n",
       "      <td>Bananas - Raw</td>\n",
       "      <td>Spinach - Raw</td>\n",
       "      <td>Apples - Raw</td>\n",
       "      <td>Butter - Salted</td>\n",
       "      <td>Cucumber - With peel</td>\n",
       "      <td>Carrots - Raw</td>\n",
       "      <td>Eggs - Fried (whole egg)</td>\n",
       "      <td>Chicken - Breast</td>\n",
       "    </tr>\n",
       "  </tbody>\n",
       "</table>\n",
       "</div>"
      ],
      "text/plain": [
       "  month                             1                     2  \\\n",
       "0    01  Coffee - Brewed from grounds  Quick Added Calories   \n",
       "1    02  Coffee - Brewed from grounds  Quick Added Calories   \n",
       "2    03  Coffee - Brewed from grounds  Quick Added Calories   \n",
       "3    04  Coffee - Brewed from grounds  Quick Added Calories   \n",
       "4    09  Coffee - Brewed from grounds  Quick Added Calories   \n",
       "5    10  Coffee - Brewed from grounds  Quick Added Calories   \n",
       "6    11  Coffee - Brewed from grounds  Quick Added Calories   \n",
       "7    12  Coffee - Brewed from grounds  Quick Added Calories   \n",
       "\n",
       "                    3                   4                     5  \\\n",
       "0       Bananas - Raw       Spinach - Raw       Butter - Salted   \n",
       "1       Bananas - Raw       Spinach - Raw    Strawberries - Raw   \n",
       "2       Bananas - Raw  Strawberries - Raw         Spinach - Raw   \n",
       "3  Strawberries - Raw       Bananas - Raw          Apples - Raw   \n",
       "4       Bananas - Raw       Spinach - Raw  Cucumber - With peel   \n",
       "5       Bananas - Raw        Apples - Raw         Spinach - Raw   \n",
       "6       Bananas - Raw        Apples - Raw         Spinach - Raw   \n",
       "7       Bananas - Raw       Spinach - Raw          Apples - Raw   \n",
       "\n",
       "                   6                     7                     8  \\\n",
       "0       Apples - Raw    Strawberries - Raw     Blueberries - Raw   \n",
       "1  Blueberries - Raw       Butter - Salted          Apples - Raw   \n",
       "2    Butter - Salted          Apples - Raw      Chicken - Breast   \n",
       "3      Spinach - Raw      Chicken - Breast         Carrots - Raw   \n",
       "4       Apples - Raw           Oil - Olive       Butter - Salted   \n",
       "5        Oil - Olive       Butter - Salted  Cucumber - With peel   \n",
       "6    Butter - Salted         Carrots - Raw  Cucumber - With peel   \n",
       "7    Butter - Salted  Cucumber - With peel         Carrots - Raw   \n",
       "\n",
       "                          9                  10  \n",
       "0      Cucumber - With peel       Carrots - Raw  \n",
       "1      Cucumber - With peel       Carrots - Raw  \n",
       "2      Cucumber - With peel   Blueberries - Raw  \n",
       "3         Blueberries - Raw     Butter - Salted  \n",
       "4             Carrots - Raw  Strawberries - Raw  \n",
       "5             Carrots - Raw     Peppers - Sweet  \n",
       "6               Oil - Olive    Chicken - Breast  \n",
       "7  Eggs - Fried (whole egg)    Chicken - Breast  "
      ]
     },
     "execution_count": 9,
     "metadata": {},
     "output_type": "execute_result"
    }
   ],
   "source": [
    "popdf"
   ]
  },
  {
   "cell_type": "markdown",
   "id": "1414b8c4",
   "metadata": {},
   "source": [
    "Removing columns with goal calories missing and reading the date column as datetime"
   ]
  },
  {
   "cell_type": "code",
   "execution_count": 10,
   "id": "588102f5",
   "metadata": {},
   "outputs": [],
   "source": [
    "data['date'] = pd.to_datetime(data['date'])\n",
    "data = data.drop(data[data.goal_calories.isnull()].index)"
   ]
  },
  {
   "cell_type": "markdown",
   "id": "347c000c",
   "metadata": {},
   "source": [
    "### Active users analysis"
   ]
  },
  {
   "cell_type": "code",
   "execution_count": 11,
   "id": "4d5aa3ad",
   "metadata": {},
   "outputs": [
    {
     "data": {
      "image/png": "[encoded data removed]",
      "text/plain": [
       "<Figure size 432x288 with 1 Axes>"
      ]
     },
     "metadata": {
      "needs_background": "light"
     },
     "output_type": "display_data"
    }
   ],
   "source": [
    "datedf = pd.DataFrame(data.groupby('date').user_id.unique())\n",
    "datedf.columns = ['user_ids']\n",
    "datedf['user_count'] = [len(i) for i in datedf['user_ids']]\n",
    "plt.plot([i for i in range(1, 209)], datedf['user_count'], label='Active users')\n",
    "plt.ylabel('Num Users')\n",
    "plt.xlabel('Day')\n",
    "plt.legend()\n",
    "plt.show()"
   ]
  },
  {
   "cell_type": "markdown",
   "id": "39836549",
   "metadata": {},
   "source": [
    "Here, The number of active users drastically increases at first. There is a steep drop in the middle and the date was december 25. The explaination could be that a big chunk of the users were with their families and went off the diet during this time to celebrate. The macros are not available at most family dinners to input into the app either, making tracking much harder.\n",
    "\n",
    "Following this, there is a dramatic rise in the number of users around the new year time. The reason for this could be that a lot of people would have put on holiday weight and would be motivated to shed off the pounds after the holidays. The fact that it was a new year also motivates people to make healthy changes. Hence a large numbers of users must have started using the app seriously during this time. \n",
    "\n",
    "There was a serious drop in users towards the end of March. The most plausible explaination of this is that a lot of users who decided to start using MyFitnessPal on January 1, were on a 3 month diet (one of the most popular diet durations as it is not too long to induce starting anxiety and not too short to be ineffective). Also, a few of the users must have stopped from not noticing any benefits or lack of motivation."
   ]
  },
  {
   "cell_type": "code",
   "execution_count": 12,
   "id": "841658b7",
   "metadata": {},
   "outputs": [
    {
     "data": {
      "text/plain": [
       "<AxesSubplot:xlabel='sequence'>"
      ]
     },
     "execution_count": 12,
     "metadata": {},
     "output_type": "execute_result"
    },
    {
     "data": {
      "image/png": "[encoded data removed]",
      "text/plain": [
       "<Figure size 432x288 with 1 Axes>"
      ]
     },
     "metadata": {
      "needs_background": "light"
     },
     "output_type": "display_data"
    }
   ],
   "source": [
    "data.groupby(\"sequence\")[\"user_id\"].count().plot(kind='bar')"
   ]
  },
  {
   "cell_type": "markdown",
   "id": "05d32e83",
   "metadata": {},
   "source": [
    "It can be seen that most people have 4 meals a day"
   ]
  },
  {
   "cell_type": "code",
   "execution_count": 13,
   "id": "4e87b3d0",
   "metadata": {
    "scrolled": false
   },
   "outputs": [
    {
     "data": {
      "text/plain": [
       "<AxesSubplot:xlabel='user_id'>"
      ]
     },
     "execution_count": 13,
     "metadata": {},
     "output_type": "execute_result"
    },
    {
     "data": {
      "image/png": "[encoded data removed]",
      "text/plain": [
       "<Figure size 432x288 with 1 Axes>"
      ]
     },
     "metadata": {
      "needs_background": "light"
     },
     "output_type": "display_data"
    }
   ],
   "source": [
    "data.groupby(\"user_id\")[\"goal_calories\"].mean().plot()"
   ]
  },
  {
   "cell_type": "code",
   "execution_count": 14,
   "id": "0f898976",
   "metadata": {},
   "outputs": [
    {
     "name": "stdout",
     "output_type": "stream",
     "text": [
      "Mean difference between first and last day: 114 days 02:48:54.306569344\n",
      "Median difference between first and last day: 136 days 00:00:00\n",
      "Total difference between first and last day: 207 days 00:00:00\n"
     ]
    }
   ],
   "source": [
    "print('Mean difference between first and last day:',(data.groupby(\"user_id\")[\"date\"].max() - data.groupby(\"user_id\")[\"date\"].min()).mean())\n",
    "print('Median difference between first and last day:',(data.groupby(\"user_id\")[\"date\"].max() - data.groupby(\"user_id\")[\"date\"].min()).median())\n",
    "print('Total difference between first and last day:',(data['date'].max() - data['date'].min()))"
   ]
  },
  {
   "cell_type": "markdown",
   "id": "6c36faf7",
   "metadata": {},
   "source": [
    "Since the mean is lower than the median, it can be inferred that the data is skewed by users having a very low number of days between their first and last day"
   ]
  },
  {
   "cell_type": "code",
   "execution_count": 15,
   "id": "dd65aeb7",
   "metadata": {
    "scrolled": true
   },
   "outputs": [
    {
     "data": {
      "text/plain": [
       "<AxesSubplot:ylabel='Count'>"
      ]
     },
     "execution_count": 15,
     "metadata": {},
     "output_type": "execute_result"
    },
    {
     "data": {
      "image/png": "[encoded data removed]",
      "text/plain": [
       "<Figure size 432x288 with 1 Axes>"
      ]
     },
     "metadata": {
      "needs_background": "light"
     },
     "output_type": "display_data"
    }
   ],
   "source": [
    "ddf = pd.DataFrame(data.groupby(\"user_id\")[\"date\"].max() - data.groupby(\"user_id\")[\"date\"].min())\n",
    "ddf['date'] = pd.to_numeric(ddf['date'].dt.days, downcast='integer')\n",
    "sns.histplot(data=ddf, bins = 20, kde=True)"
   ]
  },
  {
   "cell_type": "code",
   "execution_count": 16,
   "id": "6b1b8165",
   "metadata": {},
   "outputs": [
    {
     "data": {
      "text/plain": [
       "<AxesSubplot:ylabel='Count'>"
      ]
     },
     "execution_count": 16,
     "metadata": {},
     "output_type": "execute_result"
    },
    {
     "data": {
      "image/png": "[encoded data removed]",
      "text/plain": [
       "<Figure size 432x288 with 1 Axes>"
      ]
     },
     "metadata": {
      "needs_background": "light"
     },
     "output_type": "display_data"
    }
   ],
   "source": [
    "ddf1 = pd.DataFrame(data.groupby(\"user_id\")[\"date\"].count())\n",
    "sns.histplot(data=ddf1, bins = 20, kde=True)"
   ]
  },
  {
   "cell_type": "markdown",
   "id": "53925864",
   "metadata": {},
   "source": [
    "A large number of users used the app for just 72 hours, with the majority of them (422) just using the app on the first day. This might be the result of users simply wanting to try the app and see how tracking calories worked, and then deciding against doing it or planning to come back to it another day.\n",
    "\n",
    "Following this drastic drop, the users logging food gradually declines. The reason for this is most likely lack of motivation and will power. It could also be the case that the users did not notice any benefit and hence decided to quit.\n",
    "\n",
    "However, there is a significant rise in the total number of days logged as we approach the 180 mark. 178 days was the highest with 1190 users. This could be the result of availability of a large amount of 180 days diet challenges online."
   ]
  },
  {
   "cell_type": "code",
   "execution_count": 17,
   "id": "46e929ad",
   "metadata": {},
   "outputs": [
    {
     "name": "stdout",
     "output_type": "stream",
     "text": [
      "Mean days used: 59.333333333333336\n",
      "Median days used: 42.0\n",
      "Max days used: 187\n"
     ]
    }
   ],
   "source": [
    "print('Mean days used:',(data.groupby(\"user_id\")[\"date\"].count().mean()))\n",
    "print('Median days used:',(data.groupby(\"user_id\")[\"date\"].count().median()))\n",
    "print('Max days used:',(data.groupby(\"user_id\")[\"date\"].count().max()))"
   ]
  },
  {
   "cell_type": "markdown",
   "id": "9277dc05",
   "metadata": {},
   "source": [
    "Since the mean is higher than the median, it can be inferred that the data is skewed by some users who used the app for a high number of days. It is delightful to see that there were users who were so consistent and determined that they ended up skewing the distribution."
   ]
  },
  {
   "cell_type": "code",
   "execution_count": 18,
   "id": "995fb2f7",
   "metadata": {
    "scrolled": true
   },
   "outputs": [
    {
     "data": {
      "text/plain": [
       "date\n",
       "140      60\n",
       "157      60\n",
       "165      61\n",
       "143      62\n",
       "148      63\n",
       "155      67\n",
       "147      68\n",
       "154      70\n",
       "163      70\n",
       "162      71\n",
       "160      72\n",
       "166      76\n",
       "164      76\n",
       "167      77\n",
       "2        80\n",
       "172      82\n",
       "161      85\n",
       "168     101\n",
       "171     105\n",
       "169     110\n",
       "173     117\n",
       "170     119\n",
       "1       127\n",
       "174     128\n",
       "175     197\n",
       "176     225\n",
       "179     370\n",
       "177     391\n",
       "0       422\n",
       "178    1190\n",
       "Name: date, dtype: int64"
      ]
     },
     "execution_count": 18,
     "metadata": {},
     "output_type": "execute_result"
    }
   ],
   "source": [
    "ddf.groupby('date')['date'].count().sort_values().tail(30)"
   ]
  },
  {
   "cell_type": "markdown",
   "id": "0eb2ed53",
   "metadata": {},
   "source": [
    "Calculating the days missed below"
   ]
  },
  {
   "cell_type": "code",
   "execution_count": 19,
   "id": "90e2a618",
   "metadata": {
    "scrolled": false
   },
   "outputs": [
    {
     "data": {
      "text/plain": [
       "<AxesSubplot:ylabel='Count'>"
      ]
     },
     "execution_count": 19,
     "metadata": {},
     "output_type": "execute_result"
    },
    {
     "data": {
      "image/png": "[encoded data removed]",
      "text/plain": [
       "<Figure size 432x288 with 1 Axes>"
      ]
     },
     "metadata": {
      "needs_background": "light"
     },
     "output_type": "display_data"
    }
   ],
   "source": [
    "days_missed = ddf - ddf1 + 1\n",
    "sns.histplot(data=days_missed, kde=True)"
   ]
  },
  {
   "cell_type": "markdown",
   "id": "9051d1d9",
   "metadata": {},
   "source": [
    "It appears that over a quarter of the users missed less than 10 days. However, this could also be due to users who used the app for less than 10 days. Let us further investigate this by dropping users with less than 10 days of usage."
   ]
  },
  {
   "cell_type": "code",
   "execution_count": 20,
   "id": "eb9f62c8",
   "metadata": {},
   "outputs": [],
   "source": [
    "morethan_10days_users = list(ddf[ddf['date']>10].index)"
   ]
  },
  {
   "cell_type": "code",
   "execution_count": 21,
   "id": "48e813c8",
   "metadata": {},
   "outputs": [
    {
     "data": {
      "text/plain": [
       "<AxesSubplot:ylabel='Count'>"
      ]
     },
     "execution_count": 21,
     "metadata": {},
     "output_type": "execute_result"
    },
    {
     "data": {
      "image/png": "[encoded data removed]",
      "text/plain": [
       "<Figure size 432x288 with 1 Axes>"
      ]
     },
     "metadata": {
      "needs_background": "light"
     },
     "output_type": "display_data"
    }
   ],
   "source": [
    "days_more_than_10 = days_missed[days_missed.index.isin(morethan_10days_users)]\n",
    "sns.histplot(data=days_more_than_10, kde=True)"
   ]
  },
  {
   "cell_type": "markdown",
   "id": "6b35d156",
   "metadata": {},
   "source": [
    "The number has come down by over a 1000 users now. However, it is still quite high as compared to the rest of the distribution. Despite this, there is still the possibility that this spike is being strongly influenced by users with very few days logged.\n",
    "Now, let us just look at the really serious users with over 90 days logged."
   ]
  },
  {
   "cell_type": "code",
   "execution_count": 22,
   "id": "fbb5fe30",
   "metadata": {},
   "outputs": [
    {
     "data": {
      "text/plain": [
       "<AxesSubplot:ylabel='Count'>"
      ]
     },
     "execution_count": 22,
     "metadata": {},
     "output_type": "execute_result"
    },
    {
     "data": {
      "image/png": "[encoded data removed]",
      "text/plain": [
       "<Figure size 432x288 with 1 Axes>"
      ]
     },
     "metadata": {
      "needs_background": "light"
     },
     "output_type": "display_data"
    }
   ],
   "source": [
    "morethan_90days_users = list(ddf1[ddf1['date']>90].index)\n",
    "days_more_than_90 = days_missed[days_missed.index.isin(morethan_90days_users)]\n",
    "sns.histplot(data=days_more_than_90, kde=True)"
   ]
  },
  {
   "cell_type": "markdown",
   "id": "d0cd51ad",
   "metadata": {},
   "source": [
    "From this it can be inferred that there are aroud 1100 people who consistently tracked food for 3 months or more and missed under 20 days during this. These users can be considered serious and committed and make up about 1/9th of the total population in this dataset. The exact number of serious users is calculated below."
   ]
  },
  {
   "cell_type": "code",
   "execution_count": 23,
   "id": "6969b6c1",
   "metadata": {
    "scrolled": true
   },
   "outputs": [
    {
     "name": "stdout",
     "output_type": "stream",
     "text": [
      "Fraction of serious users: 0.1111111111111111\n"
     ]
    }
   ],
   "source": [
    "print('Fraction of serious users:',len(days_more_than_90[days_more_than_90.date<20])/len(data['user_id'].unique()))"
   ]
  },
  {
   "cell_type": "code",
   "execution_count": 24,
   "id": "03b44779",
   "metadata": {
    "scrolled": false
   },
   "outputs": [
    {
     "name": "stdout",
     "output_type": "stream",
     "text": [
      "Days missed mean: date    55.783962\n",
      "dtype: float64\n",
      "Days missed median: date    49.0\n",
      "dtype: float64\n"
     ]
    }
   ],
   "source": [
    "print('Days missed mean:',days_missed.mean())\n",
    "print('Days missed median:',days_missed.median())"
   ]
  },
  {
   "cell_type": "code",
   "execution_count": 25,
   "id": "30a991fb",
   "metadata": {},
   "outputs": [
    {
     "data": {
      "text/plain": [
       "130"
      ]
     },
     "execution_count": 25,
     "metadata": {},
     "output_type": "execute_result"
    }
   ],
   "source": [
    "under3days = list(ddf[ddf['date']<4].index)\n",
    "days_less_than_3 = data[data.index.isin(under3days)]\n",
    "len(days_less_than_3.user_id.unique())"
   ]
  },
  {
   "cell_type": "code",
   "execution_count": 26,
   "id": "02408202",
   "metadata": {},
   "outputs": [
    {
     "data": {
      "text/html": [
       "<div>\n",
       "<style scoped>\n",
       "    .dataframe tbody tr th:only-of-type {\n",
       "        vertical-align: middle;\n",
       "    }\n",
       "\n",
       "    .dataframe tbody tr th {\n",
       "        vertical-align: top;\n",
       "    }\n",
       "\n",
       "    .dataframe thead th {\n",
       "        text-align: right;\n",
       "    }\n",
       "</style>\n",
       "<table border=\"1\" class=\"dataframe\">\n",
       "  <thead>\n",
       "    <tr style=\"text-align: right;\">\n",
       "      <th></th>\n",
       "      <th>date</th>\n",
       "    </tr>\n",
       "    <tr>\n",
       "      <th>user_id</th>\n",
       "      <th></th>\n",
       "    </tr>\n",
       "  </thead>\n",
       "  <tbody>\n",
       "    <tr>\n",
       "      <th>1</th>\n",
       "      <td>173</td>\n",
       "    </tr>\n",
       "    <tr>\n",
       "      <th>2</th>\n",
       "      <td>60</td>\n",
       "    </tr>\n",
       "    <tr>\n",
       "      <th>3</th>\n",
       "      <td>7</td>\n",
       "    </tr>\n",
       "    <tr>\n",
       "      <th>4</th>\n",
       "      <td>27</td>\n",
       "    </tr>\n",
       "    <tr>\n",
       "      <th>5</th>\n",
       "      <td>179</td>\n",
       "    </tr>\n",
       "    <tr>\n",
       "      <th>...</th>\n",
       "      <td>...</td>\n",
       "    </tr>\n",
       "    <tr>\n",
       "      <th>9893</th>\n",
       "      <td>22</td>\n",
       "    </tr>\n",
       "    <tr>\n",
       "      <th>9894</th>\n",
       "      <td>3</td>\n",
       "    </tr>\n",
       "    <tr>\n",
       "      <th>9895</th>\n",
       "      <td>169</td>\n",
       "    </tr>\n",
       "    <tr>\n",
       "      <th>9896</th>\n",
       "      <td>15</td>\n",
       "    </tr>\n",
       "    <tr>\n",
       "      <th>9897</th>\n",
       "      <td>90</td>\n",
       "    </tr>\n",
       "  </tbody>\n",
       "</table>\n",
       "<p>9864 rows × 1 columns</p>\n",
       "</div>"
      ],
      "text/plain": [
       "         date\n",
       "user_id      \n",
       "1         173\n",
       "2          60\n",
       "3           7\n",
       "4          27\n",
       "5         179\n",
       "...       ...\n",
       "9893       22\n",
       "9894        3\n",
       "9895      169\n",
       "9896       15\n",
       "9897       90\n",
       "\n",
       "[9864 rows x 1 columns]"
      ]
     },
     "execution_count": 26,
     "metadata": {},
     "output_type": "execute_result"
    }
   ],
   "source": [
    "ddf1"
   ]
  },
  {
   "cell_type": "code",
   "execution_count": 27,
   "id": "a9e8bee3",
   "metadata": {},
   "outputs": [
    {
     "data": {
      "text/plain": [
       "<AxesSubplot:xlabel='user_id'>"
      ]
     },
     "execution_count": 27,
     "metadata": {},
     "output_type": "execute_result"
    },
    {
     "data": {
      "image/png": "[encoded data removed]",
      "text/plain": [
       "<Figure size 432x288 with 1 Axes>"
      ]
     },
     "metadata": {
      "needs_background": "light"
     },
     "output_type": "display_data"
    }
   ],
   "source": [
    "data.groupby(\"user_id\")[\"total_calories\"].mean().plot()"
   ]
  },
  {
   "cell_type": "markdown",
   "id": "0d184429",
   "metadata": {},
   "source": [
    "It can be seen clearly that there are outliers in the toal_calories column. Removing the entries with the total_calories over 30000 as this is close to humanely impossible."
   ]
  },
  {
   "cell_type": "code",
   "execution_count": 28,
   "id": "25376c2c",
   "metadata": {},
   "outputs": [],
   "source": [
    "data = data.drop(data[data.total_calories >30000].index)"
   ]
  },
  {
   "cell_type": "code",
   "execution_count": 29,
   "id": "27524ef7",
   "metadata": {
    "scrolled": true
   },
   "outputs": [
    {
     "name": "stdout",
     "output_type": "stream",
     "text": [
      "Percentage exceeding: 0.15421271418432525\n"
     ]
    },
    {
     "data": {
      "image/png": "[encoded data removed]",
      "text/plain": [
       "<Figure size 432x288 with 1 Axes>"
      ]
     },
     "metadata": {
      "needs_background": "light"
     },
     "output_type": "display_data"
    }
   ],
   "source": [
    "nd = (data.groupby(\"user_id\")[\"total_calories\"].mean() - data.groupby(\"user_id\")[\"goal_calories\"].mean())\n",
    "freqs = [-1 if i < 100 else 1 for i in nd]\n",
    "c1 = 0\n",
    "_c1 = 0\n",
    "for i in freqs:\n",
    "    if i>0:\n",
    "        c1 += 1\n",
    "    else:\n",
    "        _c1 += 1\n",
    "x = [c1, _c1]\n",
    "y = ['goal exceeded','calorie deficit']\n",
    "plt.bar(y,x)\n",
    "print('Percentage exceeding:',c1/(c1+_c1))"
   ]
  },
  {
   "cell_type": "markdown",
   "id": "d5a16236",
   "metadata": {},
   "source": [
    "It is delightful to see that just 15% of the users have significantly exceeded their calorie goal for the days logged by over 100 calories. The remaining 85% succesfully stuck to their goal overall."
   ]
  },
  {
   "cell_type": "code",
   "execution_count": 30,
   "id": "09a75774",
   "metadata": {},
   "outputs": [],
   "source": [
    "def boxplots(data):\n",
    "    fig, axes = plt.subplots(4, 4, figsize=(20, 20))\n",
    "    i = 0\n",
    "    j = 0\n",
    "    for feature in data.columns.values:\n",
    "        if feature == 'dates_list':\n",
    "            continue\n",
    "        sns.boxplot(ax=axes[i, j], x=data[feature])\n",
    "        if j == 3:\n",
    "            j = 0\n",
    "            i += 1\n",
    "        else:\n",
    "            j += 1"
   ]
  },
  {
   "cell_type": "code",
   "execution_count": 31,
   "id": "c777d8f2",
   "metadata": {},
   "outputs": [
    {
     "data": {
      "image/png": "[encoded data removed]",
      "text/plain": [
       "<Figure size 1440x1440 with 16 Axes>"
      ]
     },
     "metadata": {
      "needs_background": "light"
     },
     "output_type": "display_data"
    }
   ],
   "source": [
    "boxplots(data.drop(['date','food_ids'],axis=1))"
   ]
  },
  {
   "cell_type": "code",
   "execution_count": 32,
   "id": "4f2719f4",
   "metadata": {
    "scrolled": false
   },
   "outputs": [
    {
     "data": {
      "text/plain": [
       "<AxesSubplot:xlabel='total_calories', ylabel='Count'>"
      ]
     },
     "execution_count": 32,
     "metadata": {},
     "output_type": "execute_result"
    },
    {
     "data": {
      "image/png": "[encoded data removed]",
      "text/plain": [
       "<Figure size 432x288 with 1 Axes>"
      ]
     },
     "metadata": {
      "needs_background": "light"
     },
     "output_type": "display_data"
    }
   ],
   "source": [
    "sns.histplot(data=data, x='total_calories')"
   ]
  },
  {
   "cell_type": "code",
   "execution_count": 33,
   "id": "6edead35",
   "metadata": {},
   "outputs": [
    {
     "data": {
      "text/plain": [
       "<AxesSubplot:xlabel='goal_calories', ylabel='Count'>"
      ]
     },
     "execution_count": 33,
     "metadata": {},
     "output_type": "execute_result"
    },
    {
     "data": {
      "image/png": "[encoded data removed]",
      "text/plain": [
       "<Figure size 432x288 with 1 Axes>"
      ]
     },
     "metadata": {
      "needs_background": "light"
     },
     "output_type": "display_data"
    }
   ],
   "source": [
    "sns.histplot(data=data, x='goal_calories')"
   ]
  },
  {
   "cell_type": "markdown",
   "id": "0c53d56c",
   "metadata": {},
   "source": [
    "Let us now see if most users reached their goal."
   ]
  },
  {
   "cell_type": "code",
   "execution_count": 34,
   "id": "e7d05d35",
   "metadata": {},
   "outputs": [
    {
     "name": "stderr",
     "output_type": "stream",
     "text": [
      "C:\\Users\\srika\\AppData\\Local\\Temp/ipykernel_13720/1608088932.py:1: FutureWarning: Indexing with multiple keys (implicitly converted to a tuple of keys) will be deprecated, use a list instead.\n",
      "  cdf = pd.DataFrame(data.groupby('user_id')['total_calories','goal_calories'].mean())\n"
     ]
    }
   ],
   "source": [
    "cdf = pd.DataFrame(data.groupby('user_id')['total_calories','goal_calories'].mean())\n",
    "cdf['goal_met'] = cdf['goal_calories'] - cdf['total_calories']\n",
    "cdf['goal_met'] = [1 if i>=0 else 0 for i in cdf['goal_met']]"
   ]
  },
  {
   "cell_type": "code",
   "execution_count": 35,
   "id": "93f6e13a",
   "metadata": {},
   "outputs": [
    {
     "name": "stdout",
     "output_type": "stream",
     "text": [
      "Percentage met: 0.8156747439927\n"
     ]
    },
    {
     "data": {
      "image/png": "[encoded data removed]",
      "text/plain": [
       "<Figure size 432x288 with 1 Axes>"
      ]
     },
     "metadata": {
      "needs_background": "light"
     },
     "output_type": "display_data"
    }
   ],
   "source": [
    "c1 = 0\n",
    "_c1 = 0\n",
    "for i in cdf['goal_met']:\n",
    "    if i==1:\n",
    "        c1 += 1\n",
    "    else:\n",
    "        _c1 += 1\n",
    "x = [c1, _c1]\n",
    "y = ['goal met','goal exceeded']\n",
    "plt.bar(y,x)\n",
    "print('Percentage met:',c1/(c1+_c1))"
   ]
  },
  {
   "cell_type": "markdown",
   "id": "fa52a810",
   "metadata": {},
   "source": [
    "Outlier removal"
   ]
  },
  {
   "cell_type": "code",
   "execution_count": 36,
   "id": "3c3b0696",
   "metadata": {},
   "outputs": [],
   "source": [
    "#print(data[data.total_calories == data.total_calories.max()])\n",
    "#data = data.drop(axis=0,index=417957)"
   ]
  },
  {
   "cell_type": "markdown",
   "id": "add8bd71",
   "metadata": {},
   "source": [
    "Most logged first day"
   ]
  },
  {
   "cell_type": "code",
   "execution_count": 37,
   "id": "be605dec",
   "metadata": {},
   "outputs": [],
   "source": [
    "import datetime\n",
    "daysCount=[0,0,0,0,0,0,0]\n",
    "for i in data['user_id'].unique():\n",
    "    date = data[data[\"user_id\"]==i].head(1)['date'].values[0]\n",
    "    daysCount[((date.astype('datetime64[D]').view('int64') - 4) % 7)]+=1"
   ]
  },
  {
   "cell_type": "code",
   "execution_count": 38,
   "id": "6b3756e5",
   "metadata": {},
   "outputs": [
    {
     "data": {
      "text/plain": [
       "<AxesSubplot:xlabel='days', ylabel='quantities'>"
      ]
     },
     "execution_count": 38,
     "metadata": {},
     "output_type": "execute_result"
    },
    {
     "data": {
      "image/png": "[encoded data removed]",
      "text/plain": [
       "<Figure size 504x360 with 1 Axes>"
      ]
     },
     "metadata": {
      "needs_background": "light"
     },
     "output_type": "display_data"
    }
   ],
   "source": [
    "res = np.dot([i / np.sum(daysCount) for i in daysCount],100)\n",
    "fig, ax = plt.subplots(figsize=(7,5))\n",
    "df=pd.DataFrame({'days':['Monday','Tuesday','Wednesday','Thursday','Friday','Saturday','Sunday'],'quantities': res})\n",
    "sns.barplot(x='days',y='quantities',data=df,ax=ax)"
   ]
  },
  {
   "cell_type": "code",
   "execution_count": 39,
   "id": "324fa690",
   "metadata": {},
   "outputs": [],
   "source": [
    "def nutrient_charts(df,nutrient_name,goal_nutrient_name,t1,t2):\n",
    "    avg = df.groupby(['user_id']).apply(lambda x: x[nutrient_name].sum()/len(x)).reset_index()\n",
    "    goal = df.groupby(['user_id']).apply(lambda x: x[goal_nutrient_name].sum()/len(x)).reset_index()\n",
    "    avg.columns = [\"user_id\", \"avg_nut\"]\n",
    "    goal.columns = [\"user_id\", \"goal_avg_nut\"]\n",
    "\n",
    "    fig, ax =plt.subplots(1,3,figsize=(17,7))\n",
    "    _max = max(df[nutrient_name].max(),df[goal_nutrient_name].max())\n",
    "    ax[0].hist(avg[avg['avg_nut']<t1]['avg_nut'], range=[0,t1], color='Red', histtype='step')\n",
    "    ax[0].hist(goal[goal['goal_avg_nut']<t1]['goal_avg_nut'], range=[0,t1], color='Green', histtype='step')\n",
    "    ax[0].legend(('Total', 'Goal'), loc=\"upper right\")\n",
    "    ax[1].hist(avg['avg_nut'], range=[t1,t2], color='Red',histtype='step')\n",
    "    ax[1].hist(goal['goal_avg_nut'], range = [t1,t2], color='Green', histtype='step')\n",
    "    ax[1].legend(('Total', 'Goal'), loc=\"upper right\")\n",
    "    ax[2].hist(avg[avg['avg_nut']>t2]['avg_nut'], range=[t2,_max], color='Red', histtype='step')\n",
    "    ax[2].hist(goal[goal['goal_avg_nut']>t2]['goal_avg_nut'], range=[t2,_max], color='Green', histtype='step')\n",
    "    ax[2].legend(('Total', 'Goal'),loc=\"upper right\")\n",
    "    \n",
    "    under_minimum = len(avg[avg['avg_nut'] < t1])\n",
    "    above_minimum = len(avg[avg['avg_nut'] > t2])\n",
    "    total = avg.user_id.nunique()\n",
    "\n",
    "    \n",
    "    print(f'no risk: {100*(1-(under_minimum+above_minimum)/total)} %')\n",
    "    print(f'low risk: {100*under_minimum/total} %')\n",
    "    print(f'high risk: {100*above_minimum/total} %')"
   ]
  },
  {
   "cell_type": "code",
   "execution_count": 40,
   "id": "5372792d",
   "metadata": {
    "scrolled": true
   },
   "outputs": [
    {
     "name": "stdout",
     "output_type": "stream",
     "text": [
      "no risk: 51.64757173273852 %\n",
      "low risk: 27.760316333772685 %\n",
      "high risk: 20.592111933488795 %\n"
     ]
    },
    {
     "data": {
      "image/png": "[encoded data removed]",
      "text/plain": [
       "<Figure size 1224x504 with 3 Axes>"
      ]
     },
     "metadata": {
      "needs_background": "light"
     },
     "output_type": "display_data"
    }
   ],
   "source": [
    "nutrient_charts(data,\"total_sugar\",\"goal_sugar\",30,200)"
   ]
  },
  {
   "cell_type": "code",
   "execution_count": 41,
   "id": "d656b7f8",
   "metadata": {},
   "outputs": [
    {
     "name": "stdout",
     "output_type": "stream",
     "text": [
      "1399\n",
      "1090\n"
     ]
    }
   ],
   "source": [
    "print(len(data[data.total_sugar > 2000]['user_id'].unique()))\n",
    "print(len(data[data.goal_sugar > 2000]['user_id'].unique()))"
   ]
  },
  {
   "cell_type": "code",
   "execution_count": 42,
   "id": "faef0788",
   "metadata": {},
   "outputs": [],
   "source": [
    "ddf = pd.DataFrame(data.groupby('user_id')['total_sugar'].mean())"
   ]
  },
  {
   "cell_type": "code",
   "execution_count": 43,
   "id": "dd439810",
   "metadata": {
    "scrolled": true
   },
   "outputs": [
    {
     "data": {
      "text/plain": [
       "total_sugar    1746\n",
       "dtype: int64"
      ]
     },
     "execution_count": 43,
     "metadata": {},
     "output_type": "execute_result"
    }
   ],
   "source": [
    "ddf[ddf['total_sugar']>500].count()"
   ]
  },
  {
   "cell_type": "markdown",
   "id": "9f23b211",
   "metadata": {},
   "source": [
    "## Clustering"
   ]
  },
  {
   "cell_type": "code",
   "execution_count": null,
   "id": "45e6ee19",
   "metadata": {},
   "outputs": [],
   "source": [
    "from sklearn.cluster import KMeans\n",
    "kmdf = data.drop('date',axis=1)\n",
    "kmdf = kmdf.drop('food_ids',axis=1)\n",
    "kmdf = kmdf.dropna()\n",
    "kmeans = KMeans(init=\"random\",random_state=42)\n",
    "kmeans.fit(kmdf)\n"
   ]
  },
  {
   "cell_type": "code",
   "execution_count": null,
   "id": "d30f5959",
   "metadata": {},
   "outputs": [],
   "source": [
    "kmeans.cluster_centers_"
   ]
  },
  {
   "cell_type": "code",
   "execution_count": null,
   "id": "2cda7c11",
   "metadata": {},
   "outputs": [],
   "source": [
    "kmeans.n_iter_"
   ]
  },
  {
   "cell_type": "code",
   "execution_count": null,
   "id": "aed46d3f",
   "metadata": {},
   "outputs": [],
   "source": [
    "kmdf['cluster_no'] = (kmeans.labels_)"
   ]
  },
  {
   "cell_type": "code",
   "execution_count": null,
   "id": "71b86936",
   "metadata": {},
   "outputs": [],
   "source": [
    "kmdf[kmdf['cluster_no']==1].describe()"
   ]
  },
  {
   "cell_type": "code",
   "execution_count": null,
   "id": "eb06902e",
   "metadata": {},
   "outputs": [],
   "source": [
    "kmdf[kmdf['cluster_no']==2].describe()"
   ]
  },
  {
   "cell_type": "code",
   "execution_count": null,
   "id": "65c93083",
   "metadata": {},
   "outputs": [],
   "source": [
    "kmdf[kmdf['cluster_no']==3].describe()"
   ]
  },
  {
   "cell_type": "code",
   "execution_count": null,
   "id": "5eacdfb4",
   "metadata": {},
   "outputs": [],
   "source": [
    "kmdf[kmdf['cluster_no']==4].describe()"
   ]
  },
  {
   "cell_type": "code",
   "execution_count": null,
   "id": "d3a11939",
   "metadata": {},
   "outputs": [],
   "source": [
    "kmdf[kmdf['cluster_no']==5].describe()"
   ]
  },
  {
   "cell_type": "code",
   "execution_count": null,
   "id": "a41a568f",
   "metadata": {},
   "outputs": [],
   "source": [
    "kmdf[kmdf['cluster_no']==6].describe()"
   ]
  },
  {
   "cell_type": "code",
   "execution_count": null,
   "id": "db413ad5",
   "metadata": {},
   "outputs": [],
   "source": [
    "kmdf[kmdf['cluster_no']==7].describe()"
   ]
  },
  {
   "cell_type": "code",
   "execution_count": null,
   "id": "bab44d81",
   "metadata": {},
   "outputs": [],
   "source": []
  },
  {
   "cell_type": "code",
   "execution_count": null,
   "id": "672e52b3",
   "metadata": {},
   "outputs": [],
   "source": []
  },
  {
   "cell_type": "code",
   "execution_count": null,
   "id": "fe62a276",
   "metadata": {},
   "outputs": [],
   "source": []
  }
 ],
 "metadata": {
  "kernelspec": {
   "display_name": "Python 3 (ipykernel)",
   "language": "python",
   "name": "python3"
  },
  "language_info": {
   "codemirror_mode": {
    "name": "ipython",
    "version": 3
   },
   "file_extension": ".py",
   "mimetype": "text/x-python",
   "name": "python",
   "nbconvert_exporter": "python",
   "pygments_lexer": "ipython3",
   "version": "3.9.7"
  }
 },
 "nbformat": 4,
 "nbformat_minor": 5
}
